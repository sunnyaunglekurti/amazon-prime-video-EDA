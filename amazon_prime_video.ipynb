{
  "cells": [
    {
      "cell_type": "code",
      "source": [],
      "metadata": {
        "id": "7NfewvfRRQVf"
      },
      "execution_count": null,
      "outputs": []
    },
    {
      "cell_type": "code",
      "execution_count": null,
      "metadata": {
        "id": "jD7FVUCTNGev"
      },
      "outputs": [],
      "source": [
        "import numpy as np\n",
        "import pandas as pd\n",
        "e=pd.read_csv('/content/titles.csv')\n",
        "e"
      ]
    },
    {
      "cell_type": "code",
      "execution_count": null,
      "metadata": {
        "id": "D6ByXwp8S7GY"
      },
      "outputs": [],
      "source": [
        "s=pd.read_csv('/content/credits.csv')  #haracter\t13.109832\n",
        "s"
      ]
    },
    {
      "cell_type": "code",
      "execution_count": null,
      "metadata": {
        "id": "_zhzGkIASS-D"
      },
      "outputs": [],
      "source": [
        "amazon=pd.merge(e,s,on='id')\n",
        "amazon"
      ]
    },
    {
      "cell_type": "code",
      "source": [],
      "metadata": {
        "id": "cNxPhPuOATcF"
      },
      "execution_count": null,
      "outputs": []
    },
    {
      "cell_type": "code",
      "execution_count": null,
      "metadata": {
        "id": "8L-uBEMrTj1F",
        "colab": {
          "base_uri": "https://localhost:8080/"
        },
        "outputId": "905d5f45-3e2a-417f-d0f6-659e12f2b8e7"
      },
      "outputs": [
        {
          "output_type": "execute_result",
          "data": {
            "text/plain": [
              "Index(['id', 'title', 'type', 'description', 'release_year',\n",
              "       'age_certification', 'runtime', 'genres', 'production_countries',\n",
              "       'seasons', 'imdb_id', 'imdb_score', 'imdb_votes', 'tmdb_popularity',\n",
              "       'tmdb_score', 'person_id', 'name', 'character', 'role'],\n",
              "      dtype='object')"
            ]
          },
          "metadata": {},
          "execution_count": 4
        }
      ],
      "source": [
        "amazon.columns"
      ]
    },
    {
      "cell_type": "code",
      "execution_count": null,
      "metadata": {
        "id": "dPXDp0gyULXi",
        "colab": {
          "base_uri": "https://localhost:8080/"
        },
        "outputId": "c56542ff-39c0-4b08-d0c9-0c24ff027f63"
      },
      "outputs": [
        {
          "output_type": "stream",
          "name": "stdout",
          "text": [
            "<class 'pandas.core.frame.DataFrame'>\n",
            "RangeIndex: 124347 entries, 0 to 124346\n",
            "Data columns (total 19 columns):\n",
            " #   Column                Non-Null Count   Dtype  \n",
            "---  ------                --------------   -----  \n",
            " 0   id                    124347 non-null  object \n",
            " 1   title                 124347 non-null  object \n",
            " 2   type                  124347 non-null  object \n",
            " 3   description           124256 non-null  object \n",
            " 4   release_year          124347 non-null  int64  \n",
            " 5   age_certification     56707 non-null   object \n",
            " 6   runtime               124347 non-null  int64  \n",
            " 7   genres                124347 non-null  object \n",
            " 8   production_countries  124347 non-null  object \n",
            " 9   seasons               8153 non-null    float64\n",
            " 10  imdb_id               119044 non-null  object \n",
            " 11  imdb_score            118296 non-null  float64\n",
            " 12  imdb_votes            118272 non-null  float64\n",
            " 13  tmdb_popularity       124332 non-null  float64\n",
            " 14  tmdb_score            114082 non-null  float64\n",
            " 15  person_id             124347 non-null  int64  \n",
            " 16  name                  124347 non-null  object \n",
            " 17  character             108040 non-null  object \n",
            " 18  role                  124347 non-null  object \n",
            "dtypes: float64(5), int64(3), object(11)\n",
            "memory usage: 18.0+ MB\n"
          ]
        }
      ],
      "source": [
        "amazon.info()"
      ]
    },
    {
      "cell_type": "code",
      "source": [
        "amazon.isnull().mean().sort_values(ascending=False)*100"
      ],
      "metadata": {
        "colab": {
          "base_uri": "https://localhost:8080/",
          "height": 680
        },
        "id": "lbIFuGIEriWl",
        "outputId": "db45f54f-6387-4953-b4b9-209c83b75eb8"
      },
      "execution_count": null,
      "outputs": [
        {
          "output_type": "execute_result",
          "data": {
            "text/plain": [
              "seasons                 93.443348\n",
              "age_certification       54.396166\n",
              "character               13.114108\n",
              "tmdb_score               8.255125\n",
              "imdb_votes               4.885522\n",
              "imdb_score               4.866221\n",
              "imdb_id                  4.264679\n",
              "description              0.073182\n",
              "tmdb_popularity          0.012063\n",
              "id                       0.000000\n",
              "title                    0.000000\n",
              "type                     0.000000\n",
              "production_countries     0.000000\n",
              "release_year             0.000000\n",
              "runtime                  0.000000\n",
              "genres                   0.000000\n",
              "person_id                0.000000\n",
              "name                     0.000000\n",
              "role                     0.000000\n",
              "dtype: float64"
            ],
            "text/html": [
              "<div>\n",
              "<style scoped>\n",
              "    .dataframe tbody tr th:only-of-type {\n",
              "        vertical-align: middle;\n",
              "    }\n",
              "\n",
              "    .dataframe tbody tr th {\n",
              "        vertical-align: top;\n",
              "    }\n",
              "\n",
              "    .dataframe thead th {\n",
              "        text-align: right;\n",
              "    }\n",
              "</style>\n",
              "<table border=\"1\" class=\"dataframe\">\n",
              "  <thead>\n",
              "    <tr style=\"text-align: right;\">\n",
              "      <th></th>\n",
              "      <th>0</th>\n",
              "    </tr>\n",
              "  </thead>\n",
              "  <tbody>\n",
              "    <tr>\n",
              "      <th>seasons</th>\n",
              "      <td>93.443348</td>\n",
              "    </tr>\n",
              "    <tr>\n",
              "      <th>age_certification</th>\n",
              "      <td>54.396166</td>\n",
              "    </tr>\n",
              "    <tr>\n",
              "      <th>character</th>\n",
              "      <td>13.114108</td>\n",
              "    </tr>\n",
              "    <tr>\n",
              "      <th>tmdb_score</th>\n",
              "      <td>8.255125</td>\n",
              "    </tr>\n",
              "    <tr>\n",
              "      <th>imdb_votes</th>\n",
              "      <td>4.885522</td>\n",
              "    </tr>\n",
              "    <tr>\n",
              "      <th>imdb_score</th>\n",
              "      <td>4.866221</td>\n",
              "    </tr>\n",
              "    <tr>\n",
              "      <th>imdb_id</th>\n",
              "      <td>4.264679</td>\n",
              "    </tr>\n",
              "    <tr>\n",
              "      <th>description</th>\n",
              "      <td>0.073182</td>\n",
              "    </tr>\n",
              "    <tr>\n",
              "      <th>tmdb_popularity</th>\n",
              "      <td>0.012063</td>\n",
              "    </tr>\n",
              "    <tr>\n",
              "      <th>id</th>\n",
              "      <td>0.000000</td>\n",
              "    </tr>\n",
              "    <tr>\n",
              "      <th>title</th>\n",
              "      <td>0.000000</td>\n",
              "    </tr>\n",
              "    <tr>\n",
              "      <th>type</th>\n",
              "      <td>0.000000</td>\n",
              "    </tr>\n",
              "    <tr>\n",
              "      <th>production_countries</th>\n",
              "      <td>0.000000</td>\n",
              "    </tr>\n",
              "    <tr>\n",
              "      <th>release_year</th>\n",
              "      <td>0.000000</td>\n",
              "    </tr>\n",
              "    <tr>\n",
              "      <th>runtime</th>\n",
              "      <td>0.000000</td>\n",
              "    </tr>\n",
              "    <tr>\n",
              "      <th>genres</th>\n",
              "      <td>0.000000</td>\n",
              "    </tr>\n",
              "    <tr>\n",
              "      <th>person_id</th>\n",
              "      <td>0.000000</td>\n",
              "    </tr>\n",
              "    <tr>\n",
              "      <th>name</th>\n",
              "      <td>0.000000</td>\n",
              "    </tr>\n",
              "    <tr>\n",
              "      <th>role</th>\n",
              "      <td>0.000000</td>\n",
              "    </tr>\n",
              "  </tbody>\n",
              "</table>\n",
              "</div><br><label><b>dtype:</b> float64</label>"
            ]
          },
          "metadata": {},
          "execution_count": 6
        }
      ]
    },
    {
      "cell_type": "code",
      "source": [
        "amazon"
      ],
      "metadata": {
        "id": "hMpghEybtb4_"
      },
      "execution_count": null,
      "outputs": []
    },
    {
      "cell_type": "code",
      "execution_count": null,
      "metadata": {
        "colab": {
          "base_uri": "https://localhost:8080/"
        },
        "id": "d1xBuL6kVHek",
        "outputId": "cb794d0d-9b0b-4ca6-9ff2-6a458624548c"
      },
      "outputs": [
        {
          "output_type": "execute_result",
          "data": {
            "text/plain": [
              "np.int64(168)"
            ]
          },
          "metadata": {},
          "execution_count": 7
        }
      ],
      "source": [
        "#checking the number of dublicated rows\n",
        "Duplicates=amazon.duplicated()\n",
        "Duplicates.sum()"
      ]
    },
    {
      "cell_type": "code",
      "source": [
        "###Observation:\n",
        "#168 duplicate records"
      ],
      "metadata": {
        "id": "9L1AZlQBwONg"
      },
      "execution_count": null,
      "outputs": []
    },
    {
      "cell_type": "code",
      "execution_count": null,
      "metadata": {
        "id": "MMKuNlYsWivc"
      },
      "outputs": [],
      "source": [
        "#view duplicate records\n",
        "duplicated_rows=amazon[amazon.duplicated()]\n",
        "duplicated_rows"
      ]
    },
    {
      "cell_type": "code",
      "execution_count": null,
      "metadata": {
        "id": "GmK3hNTxXJg7"
      },
      "outputs": [],
      "source": [
        "#removing 168 duplicated records\n",
        "amazon.drop_duplicates(inplace=True)"
      ]
    },
    {
      "cell_type": "code",
      "execution_count": null,
      "metadata": {
        "colab": {
          "base_uri": "https://localhost:8080/"
        },
        "id": "I7KHPd-0XsXa",
        "outputId": "64ee2928-181e-4180-b9ad-5d4fb5b3ebfa"
      },
      "outputs": [
        {
          "output_type": "execute_result",
          "data": {
            "text/plain": [
              "np.int64(0)"
            ]
          },
          "metadata": {},
          "execution_count": 10
        }
      ],
      "source": [
        "amazon.duplicated().sum()"
      ]
    },
    {
      "cell_type": "code",
      "execution_count": null,
      "metadata": {
        "id": "yP4B_5kkY1m7"
      },
      "outputs": [],
      "source": [
        "amazon.isnull().mean().sort_values(ascending=False)*100"
      ]
    },
    {
      "cell_type": "code",
      "execution_count": null,
      "metadata": {
        "id": "7rXO5kGVCXAd"
      },
      "outputs": [],
      "source": [
        "#dropping the columns because not useful\n",
        "#not analytically useful\n",
        "\n",
        "amazon=amazon.drop('description',axis=1)\n",
        "amazon=amazon.drop('seasons', axis=1)\n",
        "amazon=amazon.drop('imdb_id',axis=1)\n"
      ]
    },
    {
      "cell_type": "code",
      "execution_count": null,
      "metadata": {
        "id": "wOPzil6sGFrM"
      },
      "outputs": [],
      "source": [
        "amazon['age_certification'] = amazon['age_certification'].fillna('Unknown')\n",
        "amazon['character']=amazon['character'].fillna('missing')\n",
        "\n"
      ]
    },
    {
      "cell_type": "code",
      "execution_count": null,
      "metadata": {
        "id": "L741MpjDKfcE"
      },
      "outputs": [],
      "source": [
        "amazon['tmdb_popularity'] = amazon['tmdb_popularity'].round(1)\n"
      ]
    },
    {
      "cell_type": "code",
      "execution_count": null,
      "metadata": {
        "id": "drZuDfZj4dam"
      },
      "outputs": [],
      "source": [
        "amazon.isnull().sum().sort_values(ascending=False)"
      ]
    },
    {
      "cell_type": "code",
      "execution_count": null,
      "metadata": {
        "id": "wd2AQyBt5N_1"
      },
      "outputs": [],
      "source": [
        "\n"
      ]
    },
    {
      "cell_type": "code",
      "execution_count": null,
      "metadata": {
        "colab": {
          "base_uri": "https://localhost:8080/"
        },
        "id": "dMkAgUEtHmUs",
        "outputId": "723113f2-d508-4adf-8e59-8e4766f06713"
      },
      "outputs": [
        {
          "output_type": "execute_result",
          "data": {
            "text/plain": [
              "(124179, 16)"
            ]
          },
          "metadata": {},
          "execution_count": 16
        }
      ],
      "source": [
        "amazon.shape"
      ]
    },
    {
      "cell_type": "code",
      "execution_count": null,
      "metadata": {
        "id": "3k_dS74MylTZ"
      },
      "outputs": [],
      "source": [
        "amazon[amazon['title']=='The Three Stooges']"
      ]
    },
    {
      "cell_type": "code",
      "source": [
        "amazon['production_countries'].unique()"
      ],
      "metadata": {
        "id": "9eyBciKGxhaL",
        "colab": {
          "base_uri": "https://localhost:8080/"
        },
        "outputId": "b7e1e3a2-6abe-4254-abcc-4e244b5eee1c"
      },
      "execution_count": null,
      "outputs": [
        {
          "output_type": "execute_result",
          "data": {
            "text/plain": [
              "array([\"['US']\", \"['GB']\", \"['MX', 'US']\", \"['GB', 'CA']\", \"['DE', 'US']\",\n",
              "       \"['SU']\", \"['IN']\", \"['CA', 'US']\", \"['MX']\", \"['XX']\", '[]',\n",
              "       \"['US', 'IT']\", \"['JP']\", \"['IT', 'FR']\", \"['HK']\",\n",
              "       \"['FR', 'DE', 'IT']\", \"['ES', 'IT']\", \"['GB', 'US']\",\n",
              "       \"['IL', 'US']\", \"['US', 'FR', 'IT']\", \"['IT']\",\n",
              "       \"['IT', 'GB', 'US']\", \"['GB', 'US', 'IT', 'MX', 'ES']\",\n",
              "       \"['AU', 'US']\", \"['CH', 'GB']\", \"['CA', 'FR']\", \"['US', 'IE']\",\n",
              "       \"['GB', 'IT']\", \"['IT', 'US']\", \"['FR']\", \"['GR', 'US']\", \"['DE']\",\n",
              "       \"['HK', 'US', 'CN']\", \"['US', 'ES']\", \"['PH', 'US']\",\n",
              "       \"['NL', 'US']\", \"['FR', 'US']\", \"['IT', 'YU']\",\n",
              "       \"['FR', 'DE', 'CH', 'CI']\", \"['PR', 'US']\", \"['US', 'PH']\",\n",
              "       \"['YU', 'US']\", \"['IT', 'MX']\", \"['IT', 'ES', 'DE', 'LI']\",\n",
              "       \"['US', 'CA']\", \"['US', 'GB']\", \"['US', 'DE']\",\n",
              "       \"['US', 'IT', 'FR']\", \"['CA']\", \"['FR', 'GB']\", \"['JP', 'KR']\",\n",
              "       \"['GR']\", \"['ES']\", \"['US', 'JP']\", \"['SU', 'US']\", \"['FR', 'DE']\",\n",
              "       \"['FR', 'IT']\", \"['DE', 'IT']\", \"['XC', 'DE', 'HU', 'YU']\",\n",
              "       \"['DE', 'CH']\", \"['YU']\", \"['YU', 'FR', 'DE', 'IT']\",\n",
              "       \"['DE', 'ES', 'IT']\", \"['US', 'MX']\", \"['TW', 'HK']\", \"['IL']\",\n",
              "       \"['IT', 'ES', 'DE']\", \"['US', 'KR']\", \"['IT', 'FR', 'ES']\",\n",
              "       \"['ES', 'US']\", \"['ES', 'GB']\", \"['AN', 'US']\", \"['PH']\",\n",
              "       \"['ES', 'DE', 'IT', 'MC']\", \"['IT', 'ES']\", \"['CA', 'MX']\",\n",
              "       \"['IT', 'CA']\", \"['PH', 'CO', 'US', 'ES']\", \"['DE', 'GB']\",\n",
              "       \"['IT', 'FR', 'DE']\", \"['HK', 'KR']\", \"['RO']\", \"['EG']\", \"['AU']\",\n",
              "       \"['JP', 'US']\", \"['US', 'YU']\", \"['US', 'FR']\", \"['PH', 'AU']\",\n",
              "       \"['FR', 'LI', 'CH']\", \"['FR', 'TR', 'GB']\", \"['HK', 'CN']\",\n",
              "       \"['IT', 'DE']\", \"['AU', 'GB']\", \"['BE', 'NL']\", \"['ZA']\", \"['KR']\",\n",
              "       \"['PT']\", \"['FR', 'PT']\", \"['DE', 'US', 'CL']\", \"['SE', 'US']\",\n",
              "       \"['DE', 'IL']\", \"['PH', 'IT']\", \"['US', 'GR']\",\n",
              "       \"['MX', 'US', 'IT']\", \"['BR', 'FR']\", \"['DK', 'DE', 'FR', 'IT']\",\n",
              "       \"['NZ']\", \"['US', 'FR', 'GB']\", \"['US', 'AU']\", \"['CN', 'US']\",\n",
              "       \"['IT', 'NL', 'RU', 'GB', 'FR']\", \"['DK']\", \"['US', 'HK']\",\n",
              "       \"['ES', 'FR', 'DE']\", \"['CA', 'DE']\", \"['US', 'BE', 'CA', 'FR']\",\n",
              "       \"['FR', 'IE', 'GB', 'DE']\", \"['US', 'LU']\", \"['US', 'IE', 'GB']\",\n",
              "       \"['US', 'CZ']\", \"['RU', 'GB']\", \"['FR', 'GB', 'US', 'CA']\",\n",
              "       \"['FR', 'BE', 'LU']\", \"['FI', 'FR', 'GB']\", \"['US', 'AU', 'CA']\",\n",
              "       \"['FR', 'IT', 'BE']\", \"['BE', 'NL', 'AU']\", \"['GB', 'US', 'CA']\",\n",
              "       \"['US', 'CA', 'GB']\", \"['ZA', 'GB']\", \"['GB', 'IL']\",\n",
              "       \"['CA', 'GB', 'US']\", \"['CA', 'US', 'GB']\",\n",
              "       \"['DE', 'FR', 'DK', 'GB']\", \"['GB', 'IN']\", \"['AT']\", \"['SE']\",\n",
              "       \"['GB', 'US', 'IE']\", \"['IE', 'GB']\", \"['DE', 'HU', 'FR', 'GB']\",\n",
              "       \"['RU', 'US']\", \"['SK', 'ES', 'GB', 'AR']\", \"['XC']\", \"['VE']\",\n",
              "       \"['DE', 'GB', 'US']\", \"['FR', 'GB', 'US']\",\n",
              "       \"['ZA', 'US', 'NZ', 'CA']\", \"['AU', 'GB', 'US']\",\n",
              "       \"['GB', 'US', 'FR', 'ES']\", \"['US', 'GB', 'NZ']\",\n",
              "       \"['DE', 'SE', 'DK']\", \"['US', 'GB', 'DE']\", \"['TH']\",\n",
              "       \"['FR', 'LU', 'BE']\", \"['US', 'AU', 'GB']\", \"['GB', 'JP']\",\n",
              "       \"['GB', 'FR']\", \"['CN', 'HK']\", \"['JP', 'US', 'NZ', 'CH']\",\n",
              "       \"['SE', 'DK', 'DE']\", \"['US', 'PL', 'AE']\", \"['MX', 'ES']\",\n",
              "       \"['IN', 'US']\", \"['GB', 'DK']\", \"['US', 'FR', 'IL']\",\n",
              "       \"['GB', 'IE']\", \"['IT', 'CA', 'FR']\",\n",
              "       \"['IT', 'GB', 'SI', 'BE', 'BA', 'FR']\", \"['US', 'DE', 'JP']\",\n",
              "       \"['CN']\", \"['ID']\", \"['US', 'FR', 'IT', 'LU']\", \"['NO']\",\n",
              "       \"['US', 'PL', 'RU']\", \"['RO', 'DE', 'FR', 'GB']\",\n",
              "       \"['GB', 'NO', 'PL']\", \"['CA', 'AU', 'US']\",\n",
              "       \"['IE', 'NL', 'JP', 'AF', 'IR']\", \"['FR', 'SE']\", \"['FR', 'BE']\",\n",
              "       \"['DK', 'FR', 'GB', 'US', 'CA']\",\n",
              "       \"['IT', 'RO', 'GB', 'US', 'FR', 'DE']\", \"['GB', 'CA', 'DE', 'ZA']\",\n",
              "       \"['IS', 'GB', 'US', 'AU', 'CA']\", \"['CA', 'GR']\",\n",
              "       \"['US', 'CA', 'DE']\", \"['GB', 'US', 'DE']\",\n",
              "       \"['ES', 'BE', 'FR', 'DE', 'IT']\", \"['US', 'CA', 'NL']\",\n",
              "       \"['BE', 'FR']\", \"['GB', 'US', 'CN', 'DE', 'RU']\", \"['NO', 'GB']\",\n",
              "       \"['AR', 'US']\", \"['BG', 'DE', 'US']\", \"['RU']\", \"['JM', 'US']\",\n",
              "       \"['IE']\", \"['FR', 'GB', 'CA', 'DE']\", \"['US', 'IN']\",\n",
              "       \"['DE', 'FR', 'GB', 'US']\", \"['BR']\", \"['RS']\", \"['NL']\",\n",
              "       \"['CA', 'IN']\", \"['US', 'HU']\", \"['LU', 'FR']\", \"['KR', 'HK']\",\n",
              "       \"['AT', 'DE']\", \"['IL', 'SE']\", \"['GB', 'US', 'RO']\",\n",
              "       \"['RO', 'GB', 'US']\", \"['US', 'RU']\", \"['JM']\", \"['CL', 'US']\",\n",
              "       \"['SZ', 'FR', 'ZA', 'GB']\", \"['GR', 'FR', 'IT']\", \"['TW']\",\n",
              "       \"['CA', 'GB']\", \"['US', 'IL']\", \"['US', 'LT']\", \"['GB', 'ES']\",\n",
              "       \"['PL', 'IL']\", \"['PL', 'SK', 'CZ']\", \"['FR', 'US', 'DE']\",\n",
              "       \"['TC']\", \"['SG']\", \"['CZ', 'SK']\", \"['FI']\",\n",
              "       \"['UY', 'VE', 'CL', 'ES']\", \"['BE']\", \"['MX', 'BO']\", \"['UA']\",\n",
              "       \"['ES', 'VE', 'AR']\", \"['PT', 'CA', 'FR', 'IT']\", \"['DK', 'US']\",\n",
              "       \"['DE', 'AU', 'FI']\", \"['BO', 'FR', 'ES', 'GB']\",\n",
              "       \"['FR', 'GB', 'AT', 'BR']\", \"['AU', 'DE', 'GB']\", \"['FR', 'CA']\",\n",
              "       \"['MY', 'SG']\", \"['IT', 'GB']\", \"['US', 'FR', 'BE']\",\n",
              "       \"['ZA', 'CA']\", \"['TR', 'HK', 'IN', 'IE']\",\n",
              "       \"['TN', 'FR', 'IT', 'QA']\", \"['DE', 'IN']\", \"['FR', 'MX', 'BE']\",\n",
              "       \"['AU', 'CN']\", \"['AF', 'US']\", \"['AR']\", \"['NG', 'US']\",\n",
              "       \"['FR', 'CA', 'US']\", \"['CA', 'CH']\", \"['CN', 'TH']\",\n",
              "       \"['FR', 'KZ', 'RU', 'BE', 'DE']\", \"['CZ']\", \"['IN', 'US', 'AE']\",\n",
              "       \"['IE', 'CA']\", \"['PL', 'GB', 'DK', 'FR']\", \"['AU', 'UA']\",\n",
              "       \"['US', 'AT']\", \"['LT', 'PL']\", \"['GB', 'ZA', 'DE', 'CA']\",\n",
              "       \"['IS', 'NO', 'GB', 'US']\", \"['SE', 'GB', 'FR']\", \"['ID', 'US']\",\n",
              "       \"['US', 'GB', 'CA']\", \"['CN', 'FR', 'US']\", \"['DE', 'IL', 'FR']\",\n",
              "       \"['RU', 'UA', 'CZ', 'GB', 'DE']\", \"['ZA', 'US']\",\n",
              "       \"['NL', 'ZA', 'GQ']\", \"['NG', 'GB']\", \"['DE', 'AU']\",\n",
              "       \"['CA', 'MT']\", \"['CH', 'IN']\", \"['SO', 'US', 'KE']\",\n",
              "       \"['FI', 'CA']\", \"['ES', 'BE', 'GB']\", \"['GB', 'US', 'CA', 'ES']\",\n",
              "       \"['CH']\", \"['IN', 'CA']\", \"['US', 'CO']\", \"['US', 'GB', 'PL']\",\n",
              "       \"['United States of America']\", \"['KR', 'MX']\",\n",
              "       \"['MA', 'RO', 'AE', 'GB']\", \"['ES', 'FR', 'IE']\", \"['TR']\",\n",
              "       \"['VN']\", \"['IL', 'NO', 'ZA', 'AE', 'GB', 'IS', 'IE']\",\n",
              "       \"['GB', 'IN', 'US']\", \"['CZ', 'DE', 'SK']\", \"['MX', 'NO', 'BO']\",\n",
              "       \"['FR', 'MA']\", \"['CN', 'GB']\", \"['BD', 'IN']\", \"['PR']\",\n",
              "       \"['NZ', 'FJ']\", \"['MX', 'TW', 'US']\", \"['US', 'DK', 'FR']\",\n",
              "       \"['GB', 'BE', 'US']\", \"['SE', 'NO']\",\n",
              "       \"['FR', 'GB', 'US', 'IE', 'NL']\", \"['FR', 'US', 'GB', 'CZ']\",\n",
              "       \"['DE', 'US', 'FR']\", \"['FR', 'IR']\", \"['SE', 'GB', 'BE']\",\n",
              "       \"['SE', 'DK', 'HU', 'IE', 'NO']\", \"['GB', 'US', 'IL']\",\n",
              "       \"['FR', 'PL']\", \"['NL', 'SE', 'DK']\",\n",
              "       \"['SE', 'CA', 'FI', 'FR', 'DE']\", \"['MN', 'US']\", \"['HK', 'US']\",\n",
              "       \"['FR', 'US', 'CA']\", \"['CL']\", \"['KE', 'US']\", \"['NG']\",\n",
              "       \"['US', 'RO']\", \"['BE', 'FR', 'LU']\", \"['CA', 'IL']\",\n",
              "       \"['JP', 'GB']\", \"['US', 'MA', 'ES', 'GB']\", \"['ES', 'GB', 'FR']\",\n",
              "       \"['FR', 'CL', 'CA']\", \"['UG', 'DE', 'US', 'GB']\", \"['SE', 'DK']\",\n",
              "       \"['GB', 'AR']\", \"['TT', 'US']\", \"['PL']\", \"['GB', 'US', 'FR']\",\n",
              "       \"['PK']\", \"['XK']\", \"['MY']\", \"['PE']\", \"['DO']\", \"['IN', 'RS']\",\n",
              "       \"['FR', 'DE', 'ES', 'US']\", \"['FR', 'PL', 'GB']\",\n",
              "       \"['GB', 'CZ', 'AE']\", \"['CO', 'GB', 'AU']\", \"['SE', 'IN']\",\n",
              "       \"['JP', 'CN', 'FR']\", \"['EG', 'GB']\", \"['NZ', 'GB']\",\n",
              "       \"['CN', 'HK', 'MA']\", \"['ES', 'CA']\", \"['SV', 'US']\",\n",
              "       \"['HU', 'US']\", \"['ES', 'US', 'MX']\", \"['TH', 'US']\",\n",
              "       \"['AU', 'AE', 'GB', 'ID']\", \"['CH', 'BE', 'GE', 'FR']\",\n",
              "       \"['FR', 'IL', 'LU', 'PS', 'BE']\", \"['GB', 'DE']\",\n",
              "       \"['CH', 'AE', 'US', 'HK', 'MX', 'MA']\", \"['HR', 'DK', 'FI', 'US']\",\n",
              "       \"['AU', 'DE']\", \"['HK', 'CN', 'CZ']\", \"['FR', 'MA', 'BE']\",\n",
              "       \"['NZ', 'US']\", \"['LV', 'GB']\", \"['AR', 'US', 'AQ']\", \"['LB']\",\n",
              "       \"['NL', 'BE']\", \"['KH']\", \"['CH', 'US', 'IT', 'CA', 'FR']\",\n",
              "       \"['US', 'SE']\", \"['CO']\", \"['US', 'ID']\", \"['CR']\",\n",
              "       \"['US', 'IL', 'TR']\", \"['IS']\", \"['NO', 'US', 'PL']\",\n",
              "       \"['DE', 'AT']\", \"['DK', 'SE', 'US']\", \"['US', 'AF']\",\n",
              "       \"['FR', 'AF']\", \"['ES', 'FR']\", \"['SK', 'CZ']\", \"['IR']\",\n",
              "       \"['LB', 'US']\", \"['BM']\", \"['JO', 'GB', 'IR']\", \"['PA']\",\n",
              "       \"['AL', 'CY', 'GR']\", \"['MN']\", \"['FR', 'IL']\", \"['US', 'VN']\",\n",
              "       \"['CZ', 'PL', 'SK']\", \"['MX', 'US', 'CL']\", \"['AF']\",\n",
              "       \"['XK', 'NL']\", \"['BE', 'LU']\", \"['IL', 'ES']\",\n",
              "       \"['GB', 'DE', 'NZ']\", \"['DK', 'IE', 'BE']\", \"['HU', 'US', 'GB']\",\n",
              "       \"['FR', 'LU', 'ES']\", \"['CA', 'IE', 'US']\", \"['GB', 'IT', 'FR']\",\n",
              "       \"['US', 'SE', 'GB', 'IE']\", \"['GB', 'US', 'IE', 'ES']\",\n",
              "       \"['NZ', 'CA', 'IE']\", \"['DE', 'FR']\", \"['GB', 'BE']\",\n",
              "       \"['CN', 'DK', 'US', 'AU']\", \"['GB', 'NO', 'US']\",\n",
              "       \"['FR', 'GE', 'SE']\", \"['FI', 'DE']\", \"['CN', 'FR', 'GB']\",\n",
              "       \"['US', 'AL', 'GE', 'XK']\", \"['CA', 'IE']\", \"['US', 'CU']\",\n",
              "       \"['BE', 'GB']\", \"['DE', 'NL', 'PL']\", \"['PY']\", \"['CH', 'US']\",\n",
              "       \"['RO', 'ES', 'EE', 'ET', 'LV']\", \"['BE', 'FR', 'IE', 'LU']\",\n",
              "       \"['GB', 'FR', 'DE']\", \"['US', 'NO', 'GB']\", \"['UA', 'US']\",\n",
              "       \"['DE', 'BR']\", \"['NL', 'AR', 'BR', 'QA', 'CL']\", \"['GB', 'NL']\",\n",
              "       \"['US', 'AU', 'CN', 'DK']\", \"['ES', 'CN']\", \"['BE', 'FR', 'US']\",\n",
              "       \"['PS', 'QA']\", \"['CH', 'FR', 'DE']\", \"['EG', 'AE', 'GB']\",\n",
              "       \"['DE', 'US', 'IN']\", \"['IE', 'NL', 'GB', 'BE']\",\n",
              "       \"['US', 'CA', 'KR', 'IT', 'GB']\", \"['US', 'CN']\",\n",
              "       \"['DE', 'SG', 'GB']\", \"['ES', 'AR']\", \"['PL', 'LU', 'IT']\",\n",
              "       \"['AR', 'UY']\", \"['DE', 'SK']\", \"['DE', 'JP']\", \"['NO', 'SE']\",\n",
              "       \"['KR', 'US']\", \"['SI', 'BA', 'HR', 'CZ', 'LU', 'NO', 'SK']\",\n",
              "       \"['PF', 'US', 'CA', 'FJ']\", \"['CA', 'TT']\", \"['IO']\",\n",
              "       \"['SK', 'IE']\", \"['US', 'PA']\", \"['RU', 'AM']\", \"['CU', 'GB']\",\n",
              "       \"['EG', 'LU', 'BE']\", \"['SY']\", \"['CM', 'GB']\",\n",
              "       \"['DE', 'RU', 'US']\", \"['AU', 'CA', 'GB']\", \"['DE', 'JO', 'SE']\",\n",
              "       \"['SK']\", \"['EE']\", \"['IN', 'GB', 'US']\", \"['US', 'CA', 'JP']\",\n",
              "       \"['FR', 'DE', 'GR', 'JP', 'MX', 'CH', 'BE', 'CA']\", \"['GB', 'MX']\",\n",
              "       \"['BE', 'EE', 'RS', 'SE', 'GB']\", \"['BG', 'US']\", \"['IE', 'US']\",\n",
              "       \"['SK', 'CZ', 'DE']\", \"['IN', 'RU', 'GB']\",\n",
              "       \"['DE', 'PS', 'PT', 'QA', 'FR']\", \"['UY']\", \"['UY', 'AR']\",\n",
              "       \"['KZ']\", \"['RU', 'UA', 'US']\", \"['GB', 'NO']\", \"['CO', 'ES']\",\n",
              "       \"['ZA', 'LY']\", \"['RS', 'GB']\", \"['IT', 'RO', 'US']\",\n",
              "       \"['US', 'PR']\"], dtype=object)"
            ]
          },
          "metadata": {},
          "execution_count": 18
        }
      ]
    },
    {
      "cell_type": "code",
      "source": [
        "#production_countries are stored as stringified lists — i.e., strings like \"['US', 'GB']\" rather than actual Python lists.\n",
        "import ast\n",
        "amazon['production_countries'] = amazon['production_countries'].apply(\n",
        "    lambda x: ast.literal_eval(x) if pd.notnull(x) and x != '[]' else []\n",
        ")\n"
      ],
      "metadata": {
        "id": "yZZcuHewyPt5"
      },
      "execution_count": null,
      "outputs": []
    },
    {
      "cell_type": "code",
      "source": [
        "amazon['production_countries']"
      ],
      "metadata": {
        "id": "dNPLjy_sFWmu",
        "colab": {
          "base_uri": "https://localhost:8080/",
          "height": 458
        },
        "outputId": "15d3ed33-15ca-4962-aebc-998809399d85"
      },
      "execution_count": null,
      "outputs": [
        {
          "output_type": "execute_result",
          "data": {
            "text/plain": [
              "0         [US]\n",
              "1         [US]\n",
              "2         [US]\n",
              "3         [US]\n",
              "4         [US]\n",
              "          ... \n",
              "124342      []\n",
              "124343      []\n",
              "124344      []\n",
              "124345      []\n",
              "124346      []\n",
              "Name: production_countries, Length: 124179, dtype: object"
            ],
            "text/html": [
              "<div>\n",
              "<style scoped>\n",
              "    .dataframe tbody tr th:only-of-type {\n",
              "        vertical-align: middle;\n",
              "    }\n",
              "\n",
              "    .dataframe tbody tr th {\n",
              "        vertical-align: top;\n",
              "    }\n",
              "\n",
              "    .dataframe thead th {\n",
              "        text-align: right;\n",
              "    }\n",
              "</style>\n",
              "<table border=\"1\" class=\"dataframe\">\n",
              "  <thead>\n",
              "    <tr style=\"text-align: right;\">\n",
              "      <th></th>\n",
              "      <th>production_countries</th>\n",
              "    </tr>\n",
              "  </thead>\n",
              "  <tbody>\n",
              "    <tr>\n",
              "      <th>0</th>\n",
              "      <td>[US]</td>\n",
              "    </tr>\n",
              "    <tr>\n",
              "      <th>1</th>\n",
              "      <td>[US]</td>\n",
              "    </tr>\n",
              "    <tr>\n",
              "      <th>2</th>\n",
              "      <td>[US]</td>\n",
              "    </tr>\n",
              "    <tr>\n",
              "      <th>3</th>\n",
              "      <td>[US]</td>\n",
              "    </tr>\n",
              "    <tr>\n",
              "      <th>4</th>\n",
              "      <td>[US]</td>\n",
              "    </tr>\n",
              "    <tr>\n",
              "      <th>...</th>\n",
              "      <td>...</td>\n",
              "    </tr>\n",
              "    <tr>\n",
              "      <th>124342</th>\n",
              "      <td>[]</td>\n",
              "    </tr>\n",
              "    <tr>\n",
              "      <th>124343</th>\n",
              "      <td>[]</td>\n",
              "    </tr>\n",
              "    <tr>\n",
              "      <th>124344</th>\n",
              "      <td>[]</td>\n",
              "    </tr>\n",
              "    <tr>\n",
              "      <th>124345</th>\n",
              "      <td>[]</td>\n",
              "    </tr>\n",
              "    <tr>\n",
              "      <th>124346</th>\n",
              "      <td>[]</td>\n",
              "    </tr>\n",
              "  </tbody>\n",
              "</table>\n",
              "<p>124179 rows × 1 columns</p>\n",
              "</div><br><label><b>dtype:</b> object</label>"
            ]
          },
          "metadata": {},
          "execution_count": 20
        }
      ]
    },
    {
      "cell_type": "code",
      "source": [
        "#exploding rows bcz in lists\n",
        "amazon=amazon.explode('production_countries')"
      ],
      "metadata": {
        "id": "7txzaZNGy5eu"
      },
      "execution_count": null,
      "outputs": []
    },
    {
      "cell_type": "code",
      "source": [
        "#filling the empty rows with unknown\n",
        "#since only 1.56% data is mising ,wont impact in data distribution\n",
        "amazon['production_countries'] = amazon['production_countries'].fillna('Unknown')"
      ],
      "metadata": {
        "id": "z7bxsBIrzJ3l"
      },
      "execution_count": null,
      "outputs": []
    },
    {
      "cell_type": "code",
      "source": [
        "amazon['production_countries'].unique()"
      ],
      "metadata": {
        "colab": {
          "base_uri": "https://localhost:8080/"
        },
        "id": "hOVjC3y8zran",
        "outputId": "58b72751-69fe-4a94-b790-a915966848f0"
      },
      "execution_count": null,
      "outputs": [
        {
          "output_type": "execute_result",
          "data": {
            "text/plain": [
              "array(['US', 'GB', 'MX', 'CA', 'DE', 'SU', 'IN', 'XX', 'Unknown', 'IT',\n",
              "       'JP', 'FR', 'HK', 'ES', 'IL', 'AU', 'CH', 'IE', 'GR', 'CN', 'PH',\n",
              "       'NL', 'YU', 'CI', 'PR', 'LI', 'KR', 'XC', 'HU', 'TW', 'AN', 'MC',\n",
              "       'CO', 'RO', 'EG', 'TR', 'BE', 'ZA', 'PT', 'CL', 'SE', 'BR', 'DK',\n",
              "       'NZ', 'RU', 'LU', 'CZ', 'FI', 'AT', 'SK', 'AR', 'VE', 'TH', 'PL',\n",
              "       'AE', 'SI', 'BA', 'ID', 'NO', 'AF', 'IR', 'IS', 'BG', 'JM', 'RS',\n",
              "       'SZ', 'LT', 'TC', 'SG', 'UY', 'BO', 'UA', 'MY', 'TN', 'QA', 'NG',\n",
              "       'KZ', 'GQ', 'MT', 'SO', 'KE', 'United States of America', 'MA',\n",
              "       'VN', 'BD', 'FJ', 'MN', 'UG', 'TT', 'PK', 'XK', 'PE', 'DO', 'SV',\n",
              "       'GE', 'PS', 'HR', 'LV', 'AQ', 'LB', 'KH', 'CR', 'BM', 'JO', 'PA',\n",
              "       'AL', 'CY', 'CU', 'PY', 'EE', 'ET', 'PF', 'IO', 'AM', 'SY', 'CM',\n",
              "       'LY'], dtype=object)"
            ]
          },
          "metadata": {},
          "execution_count": 23
        }
      ]
    },
    {
      "cell_type": "code",
      "source": [
        "#replacing 'United States of America'with US\n",
        "amazon['production_countries']=amazon['production_countries'].str.replace('United States of America','US')"
      ],
      "metadata": {
        "id": "Yyo6HjoLz29C"
      },
      "execution_count": null,
      "outputs": []
    },
    {
      "cell_type": "code",
      "source": [
        "amazon['production_countries'].unique()"
      ],
      "metadata": {
        "colab": {
          "base_uri": "https://localhost:8080/"
        },
        "id": "j28TxK2J1c2c",
        "outputId": "2e256347-7d3b-4cd4-b6d6-81fd2050b435"
      },
      "execution_count": null,
      "outputs": [
        {
          "output_type": "execute_result",
          "data": {
            "text/plain": [
              "array(['US', 'GB', 'MX', 'CA', 'DE', 'SU', 'IN', 'XX', 'Unknown', 'IT',\n",
              "       'JP', 'FR', 'HK', 'ES', 'IL', 'AU', 'CH', 'IE', 'GR', 'CN', 'PH',\n",
              "       'NL', 'YU', 'CI', 'PR', 'LI', 'KR', 'XC', 'HU', 'TW', 'AN', 'MC',\n",
              "       'CO', 'RO', 'EG', 'TR', 'BE', 'ZA', 'PT', 'CL', 'SE', 'BR', 'DK',\n",
              "       'NZ', 'RU', 'LU', 'CZ', 'FI', 'AT', 'SK', 'AR', 'VE', 'TH', 'PL',\n",
              "       'AE', 'SI', 'BA', 'ID', 'NO', 'AF', 'IR', 'IS', 'BG', 'JM', 'RS',\n",
              "       'SZ', 'LT', 'TC', 'SG', 'UY', 'BO', 'UA', 'MY', 'TN', 'QA', 'NG',\n",
              "       'KZ', 'GQ', 'MT', 'SO', 'KE', 'MA', 'VN', 'BD', 'FJ', 'MN', 'UG',\n",
              "       'TT', 'PK', 'XK', 'PE', 'DO', 'SV', 'GE', 'PS', 'HR', 'LV', 'AQ',\n",
              "       'LB', 'KH', 'CR', 'BM', 'JO', 'PA', 'AL', 'CY', 'CU', 'PY', 'EE',\n",
              "       'ET', 'PF', 'IO', 'AM', 'SY', 'CM', 'LY'], dtype=object)"
            ]
          },
          "metadata": {},
          "execution_count": 25
        }
      ]
    },
    {
      "cell_type": "code",
      "source": [
        "#check genre bcz they had also stringified lists\n",
        "amazon['genres'].unique()"
      ],
      "metadata": {
        "colab": {
          "base_uri": "https://localhost:8080/"
        },
        "id": "duiC635I6Gvn",
        "outputId": "05dbf1ab-d87b-423e-cf14-0a108b88cb22"
      },
      "execution_count": null,
      "outputs": [
        {
          "output_type": "execute_result",
          "data": {
            "text/plain": [
              "array([\"['comedy', 'family', 'animation', 'action', 'fantasy', 'horror']\",\n",
              "       \"['action', 'drama', 'war', 'western', 'comedy', 'european']\",\n",
              "       \"['romance', 'war', 'drama']\", ...,\n",
              "       \"['drama', 'romance', 'comedy', 'history']\",\n",
              "       \"['thriller', 'western', 'comedy']\",\n",
              "       \"['comedy', 'action', 'family']\"], dtype=object)"
            ]
          },
          "metadata": {},
          "execution_count": 26
        }
      ]
    },
    {
      "cell_type": "code",
      "source": [
        "import ast\n",
        "amazon['genres'] = amazon['genres'].apply(\n",
        "    lambda x: ast.literal_eval(x) if pd.notnull(x) and x != '[]' else []\n",
        ")\n",
        "amazon=amazon.explode('genres')"
      ],
      "metadata": {
        "id": "QtyoRIyF6rdT"
      },
      "execution_count": null,
      "outputs": []
    },
    {
      "cell_type": "code",
      "source": [
        "amazon.isnull().mean().sort_values(ascending=False)*100"
      ],
      "metadata": {
        "collapsed": true,
        "id": "ewz41xTx7EVP"
      },
      "execution_count": null,
      "outputs": []
    },
    {
      "cell_type": "code",
      "source": [
        "amazon.shape"
      ],
      "metadata": {
        "colab": {
          "base_uri": "https://localhost:8080/"
        },
        "id": "IgL__kPh1-G3",
        "outputId": "79b70f1b-d1e9-491e-feac-b3bedff7c0eb"
      },
      "execution_count": null,
      "outputs": [
        {
          "output_type": "execute_result",
          "data": {
            "text/plain": [
              "(392975, 16)"
            ]
          },
          "metadata": {},
          "execution_count": 29
        }
      ]
    },
    {
      "cell_type": "code",
      "source": [
        "# Drop rows where genre is missing (clean EDA , since 0.1 data is missing\n",
        "amazon=amazon.dropna(subset=['genres'])\n"
      ],
      "metadata": {
        "id": "0iTBm8o6LbKq"
      },
      "execution_count": null,
      "outputs": []
    },
    {
      "cell_type": "code",
      "source": [
        "amazon[amazon['title']=='The Three Stooges']"
      ],
      "metadata": {
        "id": "Uz4KACky7WII"
      },
      "execution_count": null,
      "outputs": []
    },
    {
      "cell_type": "code",
      "source": [
        "amazon.groupby('id')['title'].count().sort_values(ascending=False)"
      ],
      "metadata": {
        "id": "RqhzpuKF8AgM",
        "colab": {
          "base_uri": "https://localhost:8080/",
          "height": 490
        },
        "outputId": "ca1e46b1-8c9e-4a45-cbb7-1f305d2828ee"
      },
      "execution_count": null,
      "outputs": [
        {
          "output_type": "execute_result",
          "data": {
            "text/plain": [
              "id\n",
              "tm810218    1600\n",
              "tm185784    1250\n",
              "tm120849    1212\n",
              "tm136410    1104\n",
              "tm124284    1100\n",
              "            ... \n",
              "ts83617        1\n",
              "ts83621        1\n",
              "tm182091       1\n",
              "ts88565        1\n",
              "ts950          1\n",
              "Name: title, Length: 8768, dtype: int64"
            ],
            "text/html": [
              "<div>\n",
              "<style scoped>\n",
              "    .dataframe tbody tr th:only-of-type {\n",
              "        vertical-align: middle;\n",
              "    }\n",
              "\n",
              "    .dataframe tbody tr th {\n",
              "        vertical-align: top;\n",
              "    }\n",
              "\n",
              "    .dataframe thead th {\n",
              "        text-align: right;\n",
              "    }\n",
              "</style>\n",
              "<table border=\"1\" class=\"dataframe\">\n",
              "  <thead>\n",
              "    <tr style=\"text-align: right;\">\n",
              "      <th></th>\n",
              "      <th>title</th>\n",
              "    </tr>\n",
              "    <tr>\n",
              "      <th>id</th>\n",
              "      <th></th>\n",
              "    </tr>\n",
              "  </thead>\n",
              "  <tbody>\n",
              "    <tr>\n",
              "      <th>tm810218</th>\n",
              "      <td>1600</td>\n",
              "    </tr>\n",
              "    <tr>\n",
              "      <th>tm185784</th>\n",
              "      <td>1250</td>\n",
              "    </tr>\n",
              "    <tr>\n",
              "      <th>tm120849</th>\n",
              "      <td>1212</td>\n",
              "    </tr>\n",
              "    <tr>\n",
              "      <th>tm136410</th>\n",
              "      <td>1104</td>\n",
              "    </tr>\n",
              "    <tr>\n",
              "      <th>tm124284</th>\n",
              "      <td>1100</td>\n",
              "    </tr>\n",
              "    <tr>\n",
              "      <th>...</th>\n",
              "      <td>...</td>\n",
              "    </tr>\n",
              "    <tr>\n",
              "      <th>ts83617</th>\n",
              "      <td>1</td>\n",
              "    </tr>\n",
              "    <tr>\n",
              "      <th>ts83621</th>\n",
              "      <td>1</td>\n",
              "    </tr>\n",
              "    <tr>\n",
              "      <th>tm182091</th>\n",
              "      <td>1</td>\n",
              "    </tr>\n",
              "    <tr>\n",
              "      <th>ts88565</th>\n",
              "      <td>1</td>\n",
              "    </tr>\n",
              "    <tr>\n",
              "      <th>ts950</th>\n",
              "      <td>1</td>\n",
              "    </tr>\n",
              "  </tbody>\n",
              "</table>\n",
              "<p>8768 rows × 1 columns</p>\n",
              "</div><br><label><b>dtype:</b> int64</label>"
            ]
          },
          "metadata": {},
          "execution_count": 32
        }
      ]
    },
    {
      "cell_type": "code",
      "source": [
        "amazon_prime_video= amazon.groupby('id').agg({\n",
        "    'title': 'first',\n",
        "    'type': 'first',\n",
        "    'release_year': 'first',\n",
        "    'age_certification': 'first',\n",
        "    'production_countries': lambda x: ', '.join(sorted(set(x.dropna()))),\n",
        "    'imdb_votes': 'first',\n",
        "    'tmdb_popularity': 'first',\n",
        "    'name':lambda x: ', '.join(sorted(set(x.dropna()))),\n",
        "    'character': lambda x: ', '.join(sorted(set(x.dropna()))),\n",
        "    'role':'first',\n",
        "    'person_id':lambda x: ', '.join(map(str, sorted(set(x.dropna())))),\n",
        "    'tmdb_score': 'first',\n",
        "    'imdb_score': 'first',\n",
        "    'genres': lambda x: ', '.join(sorted(set(x.dropna())))\n",
        "}).reset_index()\n"
      ],
      "metadata": {
        "id": "fkZvHM-W5b3p"
      },
      "execution_count": null,
      "outputs": []
    },
    {
      "cell_type": "code",
      "source": [
        "amazon_prime_video[amazon_prime_video['title']=='The Three Stooges']"
      ],
      "metadata": {
        "colab": {
          "base_uri": "https://localhost:8080/",
          "height": 182
        },
        "id": "8luN2VOI5uLg",
        "outputId": "43e78b1d-0f17-4693-f7bc-de357422df76"
      },
      "execution_count": null,
      "outputs": [
        {
          "output_type": "execute_result",
          "data": {
            "text/plain": [
              "           id              title   type  release_year age_certification  \\\n",
              "2966  tm22932  The Three Stooges  MOVIE          2000           Unknown   \n",
              "7946  ts20945  The Three Stooges   SHOW          1934             TV-PG   \n",
              "\n",
              "     production_countries  imdb_votes  tmdb_popularity  \\\n",
              "2966                   US      2011.0              3.6   \n",
              "7946                   US      1092.0             15.4   \n",
              "\n",
              "                                                   name  \\\n",
              "2966  Anna Lise Phillips, Brandon Burke, Evan Handle...   \n",
              "7946                 Joe Besser, Larry Fine, Moe Howard   \n",
              "\n",
              "                                              character   role  \\\n",
              "2966  Curly Howard, Gertrude Howard, Harry Romm, Hel...  ACTOR   \n",
              "7946                                    Joe, Larry, Moe  ACTOR   \n",
              "\n",
              "                                              person_id  tmdb_score  \\\n",
              "2966  732, 1581, 9241, 17976, 25260, 25709, 26863, 3...         7.0   \n",
              "7946                                31460, 31461, 59401         7.6   \n",
              "\n",
              "      imdb_score                                             genres  \n",
              "2966         6.9                                      comedy, drama  \n",
              "7946         8.6  action, animation, comedy, family, fantasy, ho...  "
            ],
            "text/html": [
              "\n",
              "  <div id=\"df-ffcf4ef7-565f-4661-b14f-26437cab5c7d\" class=\"colab-df-container\">\n",
              "    <div>\n",
              "<style scoped>\n",
              "    .dataframe tbody tr th:only-of-type {\n",
              "        vertical-align: middle;\n",
              "    }\n",
              "\n",
              "    .dataframe tbody tr th {\n",
              "        vertical-align: top;\n",
              "    }\n",
              "\n",
              "    .dataframe thead th {\n",
              "        text-align: right;\n",
              "    }\n",
              "</style>\n",
              "<table border=\"1\" class=\"dataframe\">\n",
              "  <thead>\n",
              "    <tr style=\"text-align: right;\">\n",
              "      <th></th>\n",
              "      <th>id</th>\n",
              "      <th>title</th>\n",
              "      <th>type</th>\n",
              "      <th>release_year</th>\n",
              "      <th>age_certification</th>\n",
              "      <th>production_countries</th>\n",
              "      <th>imdb_votes</th>\n",
              "      <th>tmdb_popularity</th>\n",
              "      <th>name</th>\n",
              "      <th>character</th>\n",
              "      <th>role</th>\n",
              "      <th>person_id</th>\n",
              "      <th>tmdb_score</th>\n",
              "      <th>imdb_score</th>\n",
              "      <th>genres</th>\n",
              "    </tr>\n",
              "  </thead>\n",
              "  <tbody>\n",
              "    <tr>\n",
              "      <th>2966</th>\n",
              "      <td>tm22932</td>\n",
              "      <td>The Three Stooges</td>\n",
              "      <td>MOVIE</td>\n",
              "      <td>2000</td>\n",
              "      <td>Unknown</td>\n",
              "      <td>US</td>\n",
              "      <td>2011.0</td>\n",
              "      <td>3.6</td>\n",
              "      <td>Anna Lise Phillips, Brandon Burke, Evan Handle...</td>\n",
              "      <td>Curly Howard, Gertrude Howard, Harry Romm, Hel...</td>\n",
              "      <td>ACTOR</td>\n",
              "      <td>732, 1581, 9241, 17976, 25260, 25709, 26863, 3...</td>\n",
              "      <td>7.0</td>\n",
              "      <td>6.9</td>\n",
              "      <td>comedy, drama</td>\n",
              "    </tr>\n",
              "    <tr>\n",
              "      <th>7946</th>\n",
              "      <td>ts20945</td>\n",
              "      <td>The Three Stooges</td>\n",
              "      <td>SHOW</td>\n",
              "      <td>1934</td>\n",
              "      <td>TV-PG</td>\n",
              "      <td>US</td>\n",
              "      <td>1092.0</td>\n",
              "      <td>15.4</td>\n",
              "      <td>Joe Besser, Larry Fine, Moe Howard</td>\n",
              "      <td>Joe, Larry, Moe</td>\n",
              "      <td>ACTOR</td>\n",
              "      <td>31460, 31461, 59401</td>\n",
              "      <td>7.6</td>\n",
              "      <td>8.6</td>\n",
              "      <td>action, animation, comedy, family, fantasy, ho...</td>\n",
              "    </tr>\n",
              "  </tbody>\n",
              "</table>\n",
              "</div>\n",
              "    <div class=\"colab-df-buttons\">\n",
              "\n",
              "  <div class=\"colab-df-container\">\n",
              "    <button class=\"colab-df-convert\" onclick=\"convertToInteractive('df-ffcf4ef7-565f-4661-b14f-26437cab5c7d')\"\n",
              "            title=\"Convert this dataframe to an interactive table.\"\n",
              "            style=\"display:none;\">\n",
              "\n",
              "  <svg xmlns=\"http://www.w3.org/2000/svg\" height=\"24px\" viewBox=\"0 -960 960 960\">\n",
              "    <path d=\"M120-120v-720h720v720H120Zm60-500h600v-160H180v160Zm220 220h160v-160H400v160Zm0 220h160v-160H400v160ZM180-400h160v-160H180v160Zm440 0h160v-160H620v160ZM180-180h160v-160H180v160Zm440 0h160v-160H620v160Z\"/>\n",
              "  </svg>\n",
              "    </button>\n",
              "\n",
              "  <style>\n",
              "    .colab-df-container {\n",
              "      display:flex;\n",
              "      gap: 12px;\n",
              "    }\n",
              "\n",
              "    .colab-df-convert {\n",
              "      background-color: #E8F0FE;\n",
              "      border: none;\n",
              "      border-radius: 50%;\n",
              "      cursor: pointer;\n",
              "      display: none;\n",
              "      fill: #1967D2;\n",
              "      height: 32px;\n",
              "      padding: 0 0 0 0;\n",
              "      width: 32px;\n",
              "    }\n",
              "\n",
              "    .colab-df-convert:hover {\n",
              "      background-color: #E2EBFA;\n",
              "      box-shadow: 0px 1px 2px rgba(60, 64, 67, 0.3), 0px 1px 3px 1px rgba(60, 64, 67, 0.15);\n",
              "      fill: #174EA6;\n",
              "    }\n",
              "\n",
              "    .colab-df-buttons div {\n",
              "      margin-bottom: 4px;\n",
              "    }\n",
              "\n",
              "    [theme=dark] .colab-df-convert {\n",
              "      background-color: #3B4455;\n",
              "      fill: #D2E3FC;\n",
              "    }\n",
              "\n",
              "    [theme=dark] .colab-df-convert:hover {\n",
              "      background-color: #434B5C;\n",
              "      box-shadow: 0px 1px 3px 1px rgba(0, 0, 0, 0.15);\n",
              "      filter: drop-shadow(0px 1px 2px rgba(0, 0, 0, 0.3));\n",
              "      fill: #FFFFFF;\n",
              "    }\n",
              "  </style>\n",
              "\n",
              "    <script>\n",
              "      const buttonEl =\n",
              "        document.querySelector('#df-ffcf4ef7-565f-4661-b14f-26437cab5c7d button.colab-df-convert');\n",
              "      buttonEl.style.display =\n",
              "        google.colab.kernel.accessAllowed ? 'block' : 'none';\n",
              "\n",
              "      async function convertToInteractive(key) {\n",
              "        const element = document.querySelector('#df-ffcf4ef7-565f-4661-b14f-26437cab5c7d');\n",
              "        const dataTable =\n",
              "          await google.colab.kernel.invokeFunction('convertToInteractive',\n",
              "                                                    [key], {});\n",
              "        if (!dataTable) return;\n",
              "\n",
              "        const docLinkHtml = 'Like what you see? Visit the ' +\n",
              "          '<a target=\"_blank\" href=https://colab.research.google.com/notebooks/data_table.ipynb>data table notebook</a>'\n",
              "          + ' to learn more about interactive tables.';\n",
              "        element.innerHTML = '';\n",
              "        dataTable['output_type'] = 'display_data';\n",
              "        await google.colab.output.renderOutput(dataTable, element);\n",
              "        const docLink = document.createElement('div');\n",
              "        docLink.innerHTML = docLinkHtml;\n",
              "        element.appendChild(docLink);\n",
              "      }\n",
              "    </script>\n",
              "  </div>\n",
              "\n",
              "\n",
              "    <div id=\"df-d613b917-37a5-4ee0-8ceb-de4b2702efea\">\n",
              "      <button class=\"colab-df-quickchart\" onclick=\"quickchart('df-d613b917-37a5-4ee0-8ceb-de4b2702efea')\"\n",
              "                title=\"Suggest charts\"\n",
              "                style=\"display:none;\">\n",
              "\n",
              "<svg xmlns=\"http://www.w3.org/2000/svg\" height=\"24px\"viewBox=\"0 0 24 24\"\n",
              "     width=\"24px\">\n",
              "    <g>\n",
              "        <path d=\"M19 3H5c-1.1 0-2 .9-2 2v14c0 1.1.9 2 2 2h14c1.1 0 2-.9 2-2V5c0-1.1-.9-2-2-2zM9 17H7v-7h2v7zm4 0h-2V7h2v10zm4 0h-2v-4h2v4z\"/>\n",
              "    </g>\n",
              "</svg>\n",
              "      </button>\n",
              "\n",
              "<style>\n",
              "  .colab-df-quickchart {\n",
              "      --bg-color: #E8F0FE;\n",
              "      --fill-color: #1967D2;\n",
              "      --hover-bg-color: #E2EBFA;\n",
              "      --hover-fill-color: #174EA6;\n",
              "      --disabled-fill-color: #AAA;\n",
              "      --disabled-bg-color: #DDD;\n",
              "  }\n",
              "\n",
              "  [theme=dark] .colab-df-quickchart {\n",
              "      --bg-color: #3B4455;\n",
              "      --fill-color: #D2E3FC;\n",
              "      --hover-bg-color: #434B5C;\n",
              "      --hover-fill-color: #FFFFFF;\n",
              "      --disabled-bg-color: #3B4455;\n",
              "      --disabled-fill-color: #666;\n",
              "  }\n",
              "\n",
              "  .colab-df-quickchart {\n",
              "    background-color: var(--bg-color);\n",
              "    border: none;\n",
              "    border-radius: 50%;\n",
              "    cursor: pointer;\n",
              "    display: none;\n",
              "    fill: var(--fill-color);\n",
              "    height: 32px;\n",
              "    padding: 0;\n",
              "    width: 32px;\n",
              "  }\n",
              "\n",
              "  .colab-df-quickchart:hover {\n",
              "    background-color: var(--hover-bg-color);\n",
              "    box-shadow: 0 1px 2px rgba(60, 64, 67, 0.3), 0 1px 3px 1px rgba(60, 64, 67, 0.15);\n",
              "    fill: var(--button-hover-fill-color);\n",
              "  }\n",
              "\n",
              "  .colab-df-quickchart-complete:disabled,\n",
              "  .colab-df-quickchart-complete:disabled:hover {\n",
              "    background-color: var(--disabled-bg-color);\n",
              "    fill: var(--disabled-fill-color);\n",
              "    box-shadow: none;\n",
              "  }\n",
              "\n",
              "  .colab-df-spinner {\n",
              "    border: 2px solid var(--fill-color);\n",
              "    border-color: transparent;\n",
              "    border-bottom-color: var(--fill-color);\n",
              "    animation:\n",
              "      spin 1s steps(1) infinite;\n",
              "  }\n",
              "\n",
              "  @keyframes spin {\n",
              "    0% {\n",
              "      border-color: transparent;\n",
              "      border-bottom-color: var(--fill-color);\n",
              "      border-left-color: var(--fill-color);\n",
              "    }\n",
              "    20% {\n",
              "      border-color: transparent;\n",
              "      border-left-color: var(--fill-color);\n",
              "      border-top-color: var(--fill-color);\n",
              "    }\n",
              "    30% {\n",
              "      border-color: transparent;\n",
              "      border-left-color: var(--fill-color);\n",
              "      border-top-color: var(--fill-color);\n",
              "      border-right-color: var(--fill-color);\n",
              "    }\n",
              "    40% {\n",
              "      border-color: transparent;\n",
              "      border-right-color: var(--fill-color);\n",
              "      border-top-color: var(--fill-color);\n",
              "    }\n",
              "    60% {\n",
              "      border-color: transparent;\n",
              "      border-right-color: var(--fill-color);\n",
              "    }\n",
              "    80% {\n",
              "      border-color: transparent;\n",
              "      border-right-color: var(--fill-color);\n",
              "      border-bottom-color: var(--fill-color);\n",
              "    }\n",
              "    90% {\n",
              "      border-color: transparent;\n",
              "      border-bottom-color: var(--fill-color);\n",
              "    }\n",
              "  }\n",
              "</style>\n",
              "\n",
              "      <script>\n",
              "        async function quickchart(key) {\n",
              "          const quickchartButtonEl =\n",
              "            document.querySelector('#' + key + ' button');\n",
              "          quickchartButtonEl.disabled = true;  // To prevent multiple clicks.\n",
              "          quickchartButtonEl.classList.add('colab-df-spinner');\n",
              "          try {\n",
              "            const charts = await google.colab.kernel.invokeFunction(\n",
              "                'suggestCharts', [key], {});\n",
              "          } catch (error) {\n",
              "            console.error('Error during call to suggestCharts:', error);\n",
              "          }\n",
              "          quickchartButtonEl.classList.remove('colab-df-spinner');\n",
              "          quickchartButtonEl.classList.add('colab-df-quickchart-complete');\n",
              "        }\n",
              "        (() => {\n",
              "          let quickchartButtonEl =\n",
              "            document.querySelector('#df-d613b917-37a5-4ee0-8ceb-de4b2702efea button');\n",
              "          quickchartButtonEl.style.display =\n",
              "            google.colab.kernel.accessAllowed ? 'block' : 'none';\n",
              "        })();\n",
              "      </script>\n",
              "    </div>\n",
              "\n",
              "    </div>\n",
              "  </div>\n"
            ],
            "application/vnd.google.colaboratory.intrinsic+json": {
              "type": "dataframe",
              "summary": "{\n  \"name\": \"amazon_prime_video[amazon_prime_video['title']=='The Three Stooges']\",\n  \"rows\": 2,\n  \"fields\": [\n    {\n      \"column\": \"id\",\n      \"properties\": {\n        \"dtype\": \"string\",\n        \"num_unique_values\": 2,\n        \"samples\": [\n          \"ts20945\",\n          \"tm22932\"\n        ],\n        \"semantic_type\": \"\",\n        \"description\": \"\"\n      }\n    },\n    {\n      \"column\": \"title\",\n      \"properties\": {\n        \"dtype\": \"string\",\n        \"num_unique_values\": 1,\n        \"samples\": [\n          \"The Three Stooges\"\n        ],\n        \"semantic_type\": \"\",\n        \"description\": \"\"\n      }\n    },\n    {\n      \"column\": \"type\",\n      \"properties\": {\n        \"dtype\": \"string\",\n        \"num_unique_values\": 2,\n        \"samples\": [\n          \"SHOW\"\n        ],\n        \"semantic_type\": \"\",\n        \"description\": \"\"\n      }\n    },\n    {\n      \"column\": \"release_year\",\n      \"properties\": {\n        \"dtype\": \"number\",\n        \"std\": 46,\n        \"min\": 1934,\n        \"max\": 2000,\n        \"num_unique_values\": 2,\n        \"samples\": [\n          1934\n        ],\n        \"semantic_type\": \"\",\n        \"description\": \"\"\n      }\n    },\n    {\n      \"column\": \"age_certification\",\n      \"properties\": {\n        \"dtype\": \"string\",\n        \"num_unique_values\": 2,\n        \"samples\": [\n          \"TV-PG\"\n        ],\n        \"semantic_type\": \"\",\n        \"description\": \"\"\n      }\n    },\n    {\n      \"column\": \"production_countries\",\n      \"properties\": {\n        \"dtype\": \"string\",\n        \"num_unique_values\": 1,\n        \"samples\": [\n          \"US\"\n        ],\n        \"semantic_type\": \"\",\n        \"description\": \"\"\n      }\n    },\n    {\n      \"column\": \"imdb_votes\",\n      \"properties\": {\n        \"dtype\": \"number\",\n        \"std\": 649.8311319104372,\n        \"min\": 1092.0,\n        \"max\": 2011.0,\n        \"num_unique_values\": 2,\n        \"samples\": [\n          1092.0\n        ],\n        \"semantic_type\": \"\",\n        \"description\": \"\"\n      }\n    },\n    {\n      \"column\": \"tmdb_popularity\",\n      \"properties\": {\n        \"dtype\": \"number\",\n        \"std\": 8.34386001800126,\n        \"min\": 3.6,\n        \"max\": 15.4,\n        \"num_unique_values\": 2,\n        \"samples\": [\n          15.4\n        ],\n        \"semantic_type\": \"\",\n        \"description\": \"\"\n      }\n    },\n    {\n      \"column\": \"name\",\n      \"properties\": {\n        \"dtype\": \"string\",\n        \"num_unique_values\": 2,\n        \"samples\": [\n          \"Joe Besser, Larry Fine, Moe Howard\"\n        ],\n        \"semantic_type\": \"\",\n        \"description\": \"\"\n      }\n    },\n    {\n      \"column\": \"character\",\n      \"properties\": {\n        \"dtype\": \"string\",\n        \"num_unique_values\": 2,\n        \"samples\": [\n          \"Joe, Larry, Moe\"\n        ],\n        \"semantic_type\": \"\",\n        \"description\": \"\"\n      }\n    },\n    {\n      \"column\": \"role\",\n      \"properties\": {\n        \"dtype\": \"string\",\n        \"num_unique_values\": 1,\n        \"samples\": [\n          \"ACTOR\"\n        ],\n        \"semantic_type\": \"\",\n        \"description\": \"\"\n      }\n    },\n    {\n      \"column\": \"person_id\",\n      \"properties\": {\n        \"dtype\": \"string\",\n        \"num_unique_values\": 2,\n        \"samples\": [\n          \"31460, 31461, 59401\"\n        ],\n        \"semantic_type\": \"\",\n        \"description\": \"\"\n      }\n    },\n    {\n      \"column\": \"tmdb_score\",\n      \"properties\": {\n        \"dtype\": \"number\",\n        \"std\": 0.4242640687119283,\n        \"min\": 7.0,\n        \"max\": 7.6,\n        \"num_unique_values\": 2,\n        \"samples\": [\n          7.6\n        ],\n        \"semantic_type\": \"\",\n        \"description\": \"\"\n      }\n    },\n    {\n      \"column\": \"imdb_score\",\n      \"properties\": {\n        \"dtype\": \"number\",\n        \"std\": 1.2020815280171302,\n        \"min\": 6.9,\n        \"max\": 8.6,\n        \"num_unique_values\": 2,\n        \"samples\": [\n          8.6\n        ],\n        \"semantic_type\": \"\",\n        \"description\": \"\"\n      }\n    },\n    {\n      \"column\": \"genres\",\n      \"properties\": {\n        \"dtype\": \"string\",\n        \"num_unique_values\": 2,\n        \"samples\": [\n          \"action, animation, comedy, family, fantasy, horror\"\n        ],\n        \"semantic_type\": \"\",\n        \"description\": \"\"\n      }\n    }\n  ]\n}"
            }
          },
          "metadata": {},
          "execution_count": 34
        }
      ]
    },
    {
      "cell_type": "code",
      "source": [
        "amazon_prime_video.shape"
      ],
      "metadata": {
        "colab": {
          "base_uri": "https://localhost:8080/"
        },
        "id": "OISLPrK2GMcq",
        "outputId": "ca9a1ff9-3248-4cf6-b077-63b7ac21ed12"
      },
      "execution_count": null,
      "outputs": [
        {
          "output_type": "execute_result",
          "data": {
            "text/plain": [
              "(8768, 15)"
            ]
          },
          "metadata": {},
          "execution_count": 35
        }
      ]
    },
    {
      "cell_type": "code",
      "source": [
        "amazon_prime_video.groupby('id')['title'].count().sort_values(ascending=False).head(30)"
      ],
      "metadata": {
        "id": "Tdv09qeaGt85"
      },
      "execution_count": null,
      "outputs": []
    },
    {
      "cell_type": "code",
      "source": [
        "amazon_prime_video.isnull().sum()"
      ],
      "metadata": {
        "id": "B683G7OA9QB1"
      },
      "execution_count": null,
      "outputs": []
    },
    {
      "cell_type": "code",
      "source": [],
      "metadata": {
        "id": "ZElSfTie7d5i"
      },
      "execution_count": null,
      "outputs": []
    },
    {
      "cell_type": "code",
      "source": [
        "amazon_prime_video.duplicated().sum()"
      ],
      "metadata": {
        "id": "nGWGk4fT6NUY",
        "colab": {
          "base_uri": "https://localhost:8080/"
        },
        "outputId": "1367055a-c565-4b50-f300-6baef2f06d38"
      },
      "execution_count": null,
      "outputs": [
        {
          "output_type": "execute_result",
          "data": {
            "text/plain": [
              "np.int64(0)"
            ]
          },
          "metadata": {},
          "execution_count": 38
        }
      ]
    },
    {
      "cell_type": "code",
      "source": [
        "amazon_prime_video"
      ],
      "metadata": {
        "id": "HoCQlydCgcTv"
      },
      "execution_count": null,
      "outputs": []
    },
    {
      "cell_type": "code",
      "source": [
        "import seaborn as sns\n",
        "import matplotlib.pyplot as plt\n",
        "amazon_two_data=amazon_prime_video[['imdb_score','id']].copy()\n",
        "amazon_two_data\n",
        "\n",
        "q=sns.histplot(amazon_two_data['imdb_score'],bins=20,kde=True)\n",
        "plt.title('imdb_rating')\n",
        "plt.xlabel('imdb_score')\n",
        "plt.ylabel('Frequency')\n",
        "plt.show()"
      ],
      "metadata": {
        "colab": {
          "base_uri": "https://localhost:8080/",
          "height": 472
        },
        "id": "eb9IB__FK1Db",
        "outputId": "539f0646-a981-4b39-f9c4-8a4c5e64b431"
      },
      "execution_count": null,
      "outputs": [
        {
          "output_type": "display_data",
          "data": {
            "text/plain": [
              "<Figure size 640x480 with 1 Axes>"
            ],
            "image/png": "[encoded data removed]"
          },
          "metadata": {}
        }
      ]
    },
    {
      "cell_type": "code",
      "source": [
        "amazon_two_data"
      ],
      "metadata": {
        "colab": {
          "base_uri": "https://localhost:8080/",
          "height": 424
        },
        "id": "Jm7UrlUDMd6V",
        "outputId": "91bebbbf-7dbf-4fb4-c649-8fce11745e5d"
      },
      "execution_count": null,
      "outputs": [
        {
          "output_type": "execute_result",
          "data": {
            "text/plain": [
              "      imdb_score         id\n",
              "0            5.6   tm100001\n",
              "1            5.4  tm1000022\n",
              "2            4.4  tm1000169\n",
              "3            4.5  tm1000203\n",
              "4            NaN  tm1000290\n",
              "...          ...        ...\n",
              "8763         7.2      ts968\n",
              "8764         5.7    ts97421\n",
              "8765         7.2    ts97576\n",
              "8766         8.2     ts9770\n",
              "8767         8.5     ts9913\n",
              "\n",
              "[8768 rows x 2 columns]"
            ],
            "text/html": [
              "\n",
              "  <div id=\"df-c31c8b2c-edf4-46a9-bce6-1d64d2eb2452\" class=\"colab-df-container\">\n",
              "    <div>\n",
              "<style scoped>\n",
              "    .dataframe tbody tr th:only-of-type {\n",
              "        vertical-align: middle;\n",
              "    }\n",
              "\n",
              "    .dataframe tbody tr th {\n",
              "        vertical-align: top;\n",
              "    }\n",
              "\n",
              "    .dataframe thead th {\n",
              "        text-align: right;\n",
              "    }\n",
              "</style>\n",
              "<table border=\"1\" class=\"dataframe\">\n",
              "  <thead>\n",
              "    <tr style=\"text-align: right;\">\n",
              "      <th></th>\n",
              "      <th>imdb_score</th>\n",
              "      <th>id</th>\n",
              "    </tr>\n",
              "  </thead>\n",
              "  <tbody>\n",
              "    <tr>\n",
              "      <th>0</th>\n",
              "      <td>5.6</td>\n",
              "      <td>tm100001</td>\n",
              "    </tr>\n",
              "    <tr>\n",
              "      <th>1</th>\n",
              "      <td>5.4</td>\n",
              "      <td>tm1000022</td>\n",
              "    </tr>\n",
              "    <tr>\n",
              "      <th>2</th>\n",
              "      <td>4.4</td>\n",
              "      <td>tm1000169</td>\n",
              "    </tr>\n",
              "    <tr>\n",
              "      <th>3</th>\n",
              "      <td>4.5</td>\n",
              "      <td>tm1000203</td>\n",
              "    </tr>\n",
              "    <tr>\n",
              "      <th>4</th>\n",
              "      <td>NaN</td>\n",
              "      <td>tm1000290</td>\n",
              "    </tr>\n",
              "    <tr>\n",
              "      <th>...</th>\n",
              "      <td>...</td>\n",
              "      <td>...</td>\n",
              "    </tr>\n",
              "    <tr>\n",
              "      <th>8763</th>\n",
              "      <td>7.2</td>\n",
              "      <td>ts968</td>\n",
              "    </tr>\n",
              "    <tr>\n",
              "      <th>8764</th>\n",
              "      <td>5.7</td>\n",
              "      <td>ts97421</td>\n",
              "    </tr>\n",
              "    <tr>\n",
              "      <th>8765</th>\n",
              "      <td>7.2</td>\n",
              "      <td>ts97576</td>\n",
              "    </tr>\n",
              "    <tr>\n",
              "      <th>8766</th>\n",
              "      <td>8.2</td>\n",
              "      <td>ts9770</td>\n",
              "    </tr>\n",
              "    <tr>\n",
              "      <th>8767</th>\n",
              "      <td>8.5</td>\n",
              "      <td>ts9913</td>\n",
              "    </tr>\n",
              "  </tbody>\n",
              "</table>\n",
              "<p>8768 rows × 2 columns</p>\n",
              "</div>\n",
              "    <div class=\"colab-df-buttons\">\n",
              "\n",
              "  <div class=\"colab-df-container\">\n",
              "    <button class=\"colab-df-convert\" onclick=\"convertToInteractive('df-c31c8b2c-edf4-46a9-bce6-1d64d2eb2452')\"\n",
              "            title=\"Convert this dataframe to an interactive table.\"\n",
              "            style=\"display:none;\">\n",
              "\n",
              "  <svg xmlns=\"http://www.w3.org/2000/svg\" height=\"24px\" viewBox=\"0 -960 960 960\">\n",
              "    <path d=\"M120-120v-720h720v720H120Zm60-500h600v-160H180v160Zm220 220h160v-160H400v160Zm0 220h160v-160H400v160ZM180-400h160v-160H180v160Zm440 0h160v-160H620v160ZM180-180h160v-160H180v160Zm440 0h160v-160H620v160Z\"/>\n",
              "  </svg>\n",
              "    </button>\n",
              "\n",
              "  <style>\n",
              "    .colab-df-container {\n",
              "      display:flex;\n",
              "      gap: 12px;\n",
              "    }\n",
              "\n",
              "    .colab-df-convert {\n",
              "      background-color: #E8F0FE;\n",
              "      border: none;\n",
              "      border-radius: 50%;\n",
              "      cursor: pointer;\n",
              "      display: none;\n",
              "      fill: #1967D2;\n",
              "      height: 32px;\n",
              "      padding: 0 0 0 0;\n",
              "      width: 32px;\n",
              "    }\n",
              "\n",
              "    .colab-df-convert:hover {\n",
              "      background-color: #E2EBFA;\n",
              "      box-shadow: 0px 1px 2px rgba(60, 64, 67, 0.3), 0px 1px 3px 1px rgba(60, 64, 67, 0.15);\n",
              "      fill: #174EA6;\n",
              "    }\n",
              "\n",
              "    .colab-df-buttons div {\n",
              "      margin-bottom: 4px;\n",
              "    }\n",
              "\n",
              "    [theme=dark] .colab-df-convert {\n",
              "      background-color: #3B4455;\n",
              "      fill: #D2E3FC;\n",
              "    }\n",
              "\n",
              "    [theme=dark] .colab-df-convert:hover {\n",
              "      background-color: #434B5C;\n",
              "      box-shadow: 0px 1px 3px 1px rgba(0, 0, 0, 0.15);\n",
              "      filter: drop-shadow(0px 1px 2px rgba(0, 0, 0, 0.3));\n",
              "      fill: #FFFFFF;\n",
              "    }\n",
              "  </style>\n",
              "\n",
              "    <script>\n",
              "      const buttonEl =\n",
              "        document.querySelector('#df-c31c8b2c-edf4-46a9-bce6-1d64d2eb2452 button.colab-df-convert');\n",
              "      buttonEl.style.display =\n",
              "        google.colab.kernel.accessAllowed ? 'block' : 'none';\n",
              "\n",
              "      async function convertToInteractive(key) {\n",
              "        const element = document.querySelector('#df-c31c8b2c-edf4-46a9-bce6-1d64d2eb2452');\n",
              "        const dataTable =\n",
              "          await google.colab.kernel.invokeFunction('convertToInteractive',\n",
              "                                                    [key], {});\n",
              "        if (!dataTable) return;\n",
              "\n",
              "        const docLinkHtml = 'Like what you see? Visit the ' +\n",
              "          '<a target=\"_blank\" href=https://colab.research.google.com/notebooks/data_table.ipynb>data table notebook</a>'\n",
              "          + ' to learn more about interactive tables.';\n",
              "        element.innerHTML = '';\n",
              "        dataTable['output_type'] = 'display_data';\n",
              "        await google.colab.output.renderOutput(dataTable, element);\n",
              "        const docLink = document.createElement('div');\n",
              "        docLink.innerHTML = docLinkHtml;\n",
              "        element.appendChild(docLink);\n",
              "      }\n",
              "    </script>\n",
              "  </div>\n",
              "\n",
              "\n",
              "    <div id=\"df-964b7250-ee98-425e-ae87-3582c18b5455\">\n",
              "      <button class=\"colab-df-quickchart\" onclick=\"quickchart('df-964b7250-ee98-425e-ae87-3582c18b5455')\"\n",
              "                title=\"Suggest charts\"\n",
              "                style=\"display:none;\">\n",
              "\n",
              "<svg xmlns=\"http://www.w3.org/2000/svg\" height=\"24px\"viewBox=\"0 0 24 24\"\n",
              "     width=\"24px\">\n",
              "    <g>\n",
              "        <path d=\"M19 3H5c-1.1 0-2 .9-2 2v14c0 1.1.9 2 2 2h14c1.1 0 2-.9 2-2V5c0-1.1-.9-2-2-2zM9 17H7v-7h2v7zm4 0h-2V7h2v10zm4 0h-2v-4h2v4z\"/>\n",
              "    </g>\n",
              "</svg>\n",
              "      </button>\n",
              "\n",
              "<style>\n",
              "  .colab-df-quickchart {\n",
              "      --bg-color: #E8F0FE;\n",
              "      --fill-color: #1967D2;\n",
              "      --hover-bg-color: #E2EBFA;\n",
              "      --hover-fill-color: #174EA6;\n",
              "      --disabled-fill-color: #AAA;\n",
              "      --disabled-bg-color: #DDD;\n",
              "  }\n",
              "\n",
              "  [theme=dark] .colab-df-quickchart {\n",
              "      --bg-color: #3B4455;\n",
              "      --fill-color: #D2E3FC;\n",
              "      --hover-bg-color: #434B5C;\n",
              "      --hover-fill-color: #FFFFFF;\n",
              "      --disabled-bg-color: #3B4455;\n",
              "      --disabled-fill-color: #666;\n",
              "  }\n",
              "\n",
              "  .colab-df-quickchart {\n",
              "    background-color: var(--bg-color);\n",
              "    border: none;\n",
              "    border-radius: 50%;\n",
              "    cursor: pointer;\n",
              "    display: none;\n",
              "    fill: var(--fill-color);\n",
              "    height: 32px;\n",
              "    padding: 0;\n",
              "    width: 32px;\n",
              "  }\n",
              "\n",
              "  .colab-df-quickchart:hover {\n",
              "    background-color: var(--hover-bg-color);\n",
              "    box-shadow: 0 1px 2px rgba(60, 64, 67, 0.3), 0 1px 3px 1px rgba(60, 64, 67, 0.15);\n",
              "    fill: var(--button-hover-fill-color);\n",
              "  }\n",
              "\n",
              "  .colab-df-quickchart-complete:disabled,\n",
              "  .colab-df-quickchart-complete:disabled:hover {\n",
              "    background-color: var(--disabled-bg-color);\n",
              "    fill: var(--disabled-fill-color);\n",
              "    box-shadow: none;\n",
              "  }\n",
              "\n",
              "  .colab-df-spinner {\n",
              "    border: 2px solid var(--fill-color);\n",
              "    border-color: transparent;\n",
              "    border-bottom-color: var(--fill-color);\n",
              "    animation:\n",
              "      spin 1s steps(1) infinite;\n",
              "  }\n",
              "\n",
              "  @keyframes spin {\n",
              "    0% {\n",
              "      border-color: transparent;\n",
              "      border-bottom-color: var(--fill-color);\n",
              "      border-left-color: var(--fill-color);\n",
              "    }\n",
              "    20% {\n",
              "      border-color: transparent;\n",
              "      border-left-color: var(--fill-color);\n",
              "      border-top-color: var(--fill-color);\n",
              "    }\n",
              "    30% {\n",
              "      border-color: transparent;\n",
              "      border-left-color: var(--fill-color);\n",
              "      border-top-color: var(--fill-color);\n",
              "      border-right-color: var(--fill-color);\n",
              "    }\n",
              "    40% {\n",
              "      border-color: transparent;\n",
              "      border-right-color: var(--fill-color);\n",
              "      border-top-color: var(--fill-color);\n",
              "    }\n",
              "    60% {\n",
              "      border-color: transparent;\n",
              "      border-right-color: var(--fill-color);\n",
              "    }\n",
              "    80% {\n",
              "      border-color: transparent;\n",
              "      border-right-color: var(--fill-color);\n",
              "      border-bottom-color: var(--fill-color);\n",
              "    }\n",
              "    90% {\n",
              "      border-color: transparent;\n",
              "      border-bottom-color: var(--fill-color);\n",
              "    }\n",
              "  }\n",
              "</style>\n",
              "\n",
              "      <script>\n",
              "        async function quickchart(key) {\n",
              "          const quickchartButtonEl =\n",
              "            document.querySelector('#' + key + ' button');\n",
              "          quickchartButtonEl.disabled = true;  // To prevent multiple clicks.\n",
              "          quickchartButtonEl.classList.add('colab-df-spinner');\n",
              "          try {\n",
              "            const charts = await google.colab.kernel.invokeFunction(\n",
              "                'suggestCharts', [key], {});\n",
              "          } catch (error) {\n",
              "            console.error('Error during call to suggestCharts:', error);\n",
              "          }\n",
              "          quickchartButtonEl.classList.remove('colab-df-spinner');\n",
              "          quickchartButtonEl.classList.add('colab-df-quickchart-complete');\n",
              "        }\n",
              "        (() => {\n",
              "          let quickchartButtonEl =\n",
              "            document.querySelector('#df-964b7250-ee98-425e-ae87-3582c18b5455 button');\n",
              "          quickchartButtonEl.style.display =\n",
              "            google.colab.kernel.accessAllowed ? 'block' : 'none';\n",
              "        })();\n",
              "      </script>\n",
              "    </div>\n",
              "\n",
              "  <div id=\"id_20238fdd-2e12-4d32-8e66-8d70093b0e7f\">\n",
              "    <style>\n",
              "      .colab-df-generate {\n",
              "        background-color: #E8F0FE;\n",
              "        border: none;\n",
              "        border-radius: 50%;\n",
              "        cursor: pointer;\n",
              "        display: none;\n",
              "        fill: #1967D2;\n",
              "        height: 32px;\n",
              "        padding: 0 0 0 0;\n",
              "        width: 32px;\n",
              "      }\n",
              "\n",
              "      .colab-df-generate:hover {\n",
              "        background-color: #E2EBFA;\n",
              "        box-shadow: 0px 1px 2px rgba(60, 64, 67, 0.3), 0px 1px 3px 1px rgba(60, 64, 67, 0.15);\n",
              "        fill: #174EA6;\n",
              "      }\n",
              "\n",
              "      [theme=dark] .colab-df-generate {\n",
              "        background-color: #3B4455;\n",
              "        fill: #D2E3FC;\n",
              "      }\n",
              "\n",
              "      [theme=dark] .colab-df-generate:hover {\n",
              "        background-color: #434B5C;\n",
              "        box-shadow: 0px 1px 3px 1px rgba(0, 0, 0, 0.15);\n",
              "        filter: drop-shadow(0px 1px 2px rgba(0, 0, 0, 0.3));\n",
              "        fill: #FFFFFF;\n",
              "      }\n",
              "    </style>\n",
              "    <button class=\"colab-df-generate\" onclick=\"generateWithVariable('amazon_two_data')\"\n",
              "            title=\"Generate code using this dataframe.\"\n",
              "            style=\"display:none;\">\n",
              "\n",
              "  <svg xmlns=\"http://www.w3.org/2000/svg\" height=\"24px\"viewBox=\"0 0 24 24\"\n",
              "       width=\"24px\">\n",
              "    <path d=\"M7,19H8.4L18.45,9,17,7.55,7,17.6ZM5,21V16.75L18.45,3.32a2,2,0,0,1,2.83,0l1.4,1.43a1.91,1.91,0,0,1,.58,1.4,1.91,1.91,0,0,1-.58,1.4L9.25,21ZM18.45,9,17,7.55Zm-12,3A5.31,5.31,0,0,0,4.9,8.1,5.31,5.31,0,0,0,1,6.5,5.31,5.31,0,0,0,4.9,4.9,5.31,5.31,0,0,0,6.5,1,5.31,5.31,0,0,0,8.1,4.9,5.31,5.31,0,0,0,12,6.5,5.46,5.46,0,0,0,6.5,12Z\"/>\n",
              "  </svg>\n",
              "    </button>\n",
              "    <script>\n",
              "      (() => {\n",
              "      const buttonEl =\n",
              "        document.querySelector('#id_20238fdd-2e12-4d32-8e66-8d70093b0e7f button.colab-df-generate');\n",
              "      buttonEl.style.display =\n",
              "        google.colab.kernel.accessAllowed ? 'block' : 'none';\n",
              "\n",
              "      buttonEl.onclick = () => {\n",
              "        google.colab.notebook.generateWithVariable('amazon_two_data');\n",
              "      }\n",
              "      })();\n",
              "    </script>\n",
              "  </div>\n",
              "\n",
              "    </div>\n",
              "  </div>\n"
            ],
            "application/vnd.google.colaboratory.intrinsic+json": {
              "type": "dataframe",
              "variable_name": "amazon_two_data",
              "summary": "{\n  \"name\": \"amazon_two_data\",\n  \"rows\": 8768,\n  \"fields\": [\n    {\n      \"column\": \"imdb_score\",\n      \"properties\": {\n        \"dtype\": \"number\",\n        \"std\": 1.3190916546488258,\n        \"min\": 1.1,\n        \"max\": 9.9,\n        \"num_unique_values\": 85,\n        \"samples\": [\n          1.9,\n          5.6,\n          1.6\n        ],\n        \"semantic_type\": \"\",\n        \"description\": \"\"\n      }\n    },\n    {\n      \"column\": \"id\",\n      \"properties\": {\n        \"dtype\": \"string\",\n        \"num_unique_values\": 8768,\n        \"samples\": [\n          \"tm409135\",\n          \"tm179722\",\n          \"tm193089\"\n        ],\n        \"semantic_type\": \"\",\n        \"description\": \"\"\n      }\n    }\n  ]\n}"
            }
          },
          "metadata": {},
          "execution_count": 41
        }
      ]
    },
    {
      "cell_type": "code",
      "source": [
        "mean_score=amazon_two_data['imdb_score'].mean()\n",
        "amazon_two_data['imdb_rating']=amazon_two_data['imdb_score'].fillna(mean_score)"
      ],
      "metadata": {
        "id": "Vt4zsLmJ-IRE"
      },
      "execution_count": null,
      "outputs": []
    },
    {
      "cell_type": "code",
      "source": [
        "amazon_two_data['imdb_rating']=amazon_two_data['imdb_rating'].round(1)"
      ],
      "metadata": {
        "id": "XSpRNr58Z-tJ"
      },
      "execution_count": null,
      "outputs": []
    },
    {
      "cell_type": "code",
      "source": [],
      "metadata": {
        "id": "oUON9WrQaOGw"
      },
      "execution_count": null,
      "outputs": []
    },
    {
      "cell_type": "code",
      "source": [
        "plt.figure(figsize=(12,5))\n",
        "#before\n",
        "plt.subplot(1,2,1)\n",
        "sns.histplot(amazon_two_data['imdb_score'],bins=10,color='green',kde=True)\n",
        "plt.title('before_imputation')\n",
        "\n",
        "#after_imputation\n",
        "plt.subplot(1,2,2)\n",
        "sns.histplot(amazon_two_data['imdb_rating'],bins=10,color='red',kde=True)\n",
        "plt.title('after_imputation')\n",
        "\n",
        "plt.tight_layout()\n",
        "plt.show()"
      ],
      "metadata": {
        "colab": {
          "base_uri": "https://localhost:8080/",
          "height": 507
        },
        "id": "gSLnRp_cHqy1",
        "outputId": "94bba6fb-f28c-4225-e203-c843d5ae6770"
      },
      "execution_count": null,
      "outputs": [
        {
          "output_type": "display_data",
          "data": {
            "text/plain": [
              "<Figure size 1200x500 with 2 Axes>"
            ],
            "image/png": "[encoded data removed]"
          },
          "metadata": {}
        }
      ]
    },
    {
      "cell_type": "code",
      "source": [
        "print(\"Before Imputation:\\n\", amazon_two_data['imdb_score'].describe())\n",
        "print(\"\\nAfter Imputation:\\n\", amazon_two_data['imdb_rating'].describe())\n"
      ],
      "metadata": {
        "colab": {
          "base_uri": "https://localhost:8080/"
        },
        "id": "9yRQ25vPIqCJ",
        "outputId": "702377c0-d72c-48cb-c7d9-b5dc23a33a5f"
      },
      "execution_count": null,
      "outputs": [
        {
          "output_type": "stream",
          "name": "stdout",
          "text": [
            "Before Imputation:\n",
            " count    8130.000000\n",
            "mean        5.932386\n",
            "std         1.319092\n",
            "min         1.100000\n",
            "25%         5.100000\n",
            "50%         6.000000\n",
            "75%         6.900000\n",
            "max         9.900000\n",
            "Name: imdb_score, dtype: float64\n",
            "\n",
            "After Imputation:\n",
            " count    8768.000000\n",
            "mean        5.930030\n",
            "std         1.270216\n",
            "min         1.100000\n",
            "25%         5.200000\n",
            "50%         5.900000\n",
            "75%         6.800000\n",
            "max         9.900000\n",
            "Name: imdb_rating, dtype: float64\n"
          ]
        }
      ]
    },
    {
      "cell_type": "code",
      "source": [
        "amazon_two_data"
      ],
      "metadata": {
        "colab": {
          "base_uri": "https://localhost:8080/",
          "height": 424
        },
        "id": "PZoDqDz0PAmA",
        "outputId": "3658529d-ae30-42a1-ec23-e90afb574b22"
      },
      "execution_count": null,
      "outputs": [
        {
          "output_type": "execute_result",
          "data": {
            "text/plain": [
              "      imdb_score         id  imdb_rating\n",
              "0            5.6   tm100001          5.6\n",
              "1            5.4  tm1000022          5.4\n",
              "2            4.4  tm1000169          4.4\n",
              "3            4.5  tm1000203          4.5\n",
              "4            NaN  tm1000290          5.9\n",
              "...          ...        ...          ...\n",
              "8763         7.2      ts968          7.2\n",
              "8764         5.7    ts97421          5.7\n",
              "8765         7.2    ts97576          7.2\n",
              "8766         8.2     ts9770          8.2\n",
              "8767         8.5     ts9913          8.5\n",
              "\n",
              "[8768 rows x 3 columns]"
            ],
            "text/html": [
              "\n",
              "  <div id=\"df-29577b7a-90ca-43c3-a85b-28ef0f0b564a\" class=\"colab-df-container\">\n",
              "    <div>\n",
              "<style scoped>\n",
              "    .dataframe tbody tr th:only-of-type {\n",
              "        vertical-align: middle;\n",
              "    }\n",
              "\n",
              "    .dataframe tbody tr th {\n",
              "        vertical-align: top;\n",
              "    }\n",
              "\n",
              "    .dataframe thead th {\n",
              "        text-align: right;\n",
              "    }\n",
              "</style>\n",
              "<table border=\"1\" class=\"dataframe\">\n",
              "  <thead>\n",
              "    <tr style=\"text-align: right;\">\n",
              "      <th></th>\n",
              "      <th>imdb_score</th>\n",
              "      <th>id</th>\n",
              "      <th>imdb_rating</th>\n",
              "    </tr>\n",
              "  </thead>\n",
              "  <tbody>\n",
              "    <tr>\n",
              "      <th>0</th>\n",
              "      <td>5.6</td>\n",
              "      <td>tm100001</td>\n",
              "      <td>5.6</td>\n",
              "    </tr>\n",
              "    <tr>\n",
              "      <th>1</th>\n",
              "      <td>5.4</td>\n",
              "      <td>tm1000022</td>\n",
              "      <td>5.4</td>\n",
              "    </tr>\n",
              "    <tr>\n",
              "      <th>2</th>\n",
              "      <td>4.4</td>\n",
              "      <td>tm1000169</td>\n",
              "      <td>4.4</td>\n",
              "    </tr>\n",
              "    <tr>\n",
              "      <th>3</th>\n",
              "      <td>4.5</td>\n",
              "      <td>tm1000203</td>\n",
              "      <td>4.5</td>\n",
              "    </tr>\n",
              "    <tr>\n",
              "      <th>4</th>\n",
              "      <td>NaN</td>\n",
              "      <td>tm1000290</td>\n",
              "      <td>5.9</td>\n",
              "    </tr>\n",
              "    <tr>\n",
              "      <th>...</th>\n",
              "      <td>...</td>\n",
              "      <td>...</td>\n",
              "      <td>...</td>\n",
              "    </tr>\n",
              "    <tr>\n",
              "      <th>8763</th>\n",
              "      <td>7.2</td>\n",
              "      <td>ts968</td>\n",
              "      <td>7.2</td>\n",
              "    </tr>\n",
              "    <tr>\n",
              "      <th>8764</th>\n",
              "      <td>5.7</td>\n",
              "      <td>ts97421</td>\n",
              "      <td>5.7</td>\n",
              "    </tr>\n",
              "    <tr>\n",
              "      <th>8765</th>\n",
              "      <td>7.2</td>\n",
              "      <td>ts97576</td>\n",
              "      <td>7.2</td>\n",
              "    </tr>\n",
              "    <tr>\n",
              "      <th>8766</th>\n",
              "      <td>8.2</td>\n",
              "      <td>ts9770</td>\n",
              "      <td>8.2</td>\n",
              "    </tr>\n",
              "    <tr>\n",
              "      <th>8767</th>\n",
              "      <td>8.5</td>\n",
              "      <td>ts9913</td>\n",
              "      <td>8.5</td>\n",
              "    </tr>\n",
              "  </tbody>\n",
              "</table>\n",
              "<p>8768 rows × 3 columns</p>\n",
              "</div>\n",
              "    <div class=\"colab-df-buttons\">\n",
              "\n",
              "  <div class=\"colab-df-container\">\n",
              "    <button class=\"colab-df-convert\" onclick=\"convertToInteractive('df-29577b7a-90ca-43c3-a85b-28ef0f0b564a')\"\n",
              "            title=\"Convert this dataframe to an interactive table.\"\n",
              "            style=\"display:none;\">\n",
              "\n",
              "  <svg xmlns=\"http://www.w3.org/2000/svg\" height=\"24px\" viewBox=\"0 -960 960 960\">\n",
              "    <path d=\"M120-120v-720h720v720H120Zm60-500h600v-160H180v160Zm220 220h160v-160H400v160Zm0 220h160v-160H400v160ZM180-400h160v-160H180v160Zm440 0h160v-160H620v160ZM180-180h160v-160H180v160Zm440 0h160v-160H620v160Z\"/>\n",
              "  </svg>\n",
              "    </button>\n",
              "\n",
              "  <style>\n",
              "    .colab-df-container {\n",
              "      display:flex;\n",
              "      gap: 12px;\n",
              "    }\n",
              "\n",
              "    .colab-df-convert {\n",
              "      background-color: #E8F0FE;\n",
              "      border: none;\n",
              "      border-radius: 50%;\n",
              "      cursor: pointer;\n",
              "      display: none;\n",
              "      fill: #1967D2;\n",
              "      height: 32px;\n",
              "      padding: 0 0 0 0;\n",
              "      width: 32px;\n",
              "    }\n",
              "\n",
              "    .colab-df-convert:hover {\n",
              "      background-color: #E2EBFA;\n",
              "      box-shadow: 0px 1px 2px rgba(60, 64, 67, 0.3), 0px 1px 3px 1px rgba(60, 64, 67, 0.15);\n",
              "      fill: #174EA6;\n",
              "    }\n",
              "\n",
              "    .colab-df-buttons div {\n",
              "      margin-bottom: 4px;\n",
              "    }\n",
              "\n",
              "    [theme=dark] .colab-df-convert {\n",
              "      background-color: #3B4455;\n",
              "      fill: #D2E3FC;\n",
              "    }\n",
              "\n",
              "    [theme=dark] .colab-df-convert:hover {\n",
              "      background-color: #434B5C;\n",
              "      box-shadow: 0px 1px 3px 1px rgba(0, 0, 0, 0.15);\n",
              "      filter: drop-shadow(0px 1px 2px rgba(0, 0, 0, 0.3));\n",
              "      fill: #FFFFFF;\n",
              "    }\n",
              "  </style>\n",
              "\n",
              "    <script>\n",
              "      const buttonEl =\n",
              "        document.querySelector('#df-29577b7a-90ca-43c3-a85b-28ef0f0b564a button.colab-df-convert');\n",
              "      buttonEl.style.display =\n",
              "        google.colab.kernel.accessAllowed ? 'block' : 'none';\n",
              "\n",
              "      async function convertToInteractive(key) {\n",
              "        const element = document.querySelector('#df-29577b7a-90ca-43c3-a85b-28ef0f0b564a');\n",
              "        const dataTable =\n",
              "          await google.colab.kernel.invokeFunction('convertToInteractive',\n",
              "                                                    [key], {});\n",
              "        if (!dataTable) return;\n",
              "\n",
              "        const docLinkHtml = 'Like what you see? Visit the ' +\n",
              "          '<a target=\"_blank\" href=https://colab.research.google.com/notebooks/data_table.ipynb>data table notebook</a>'\n",
              "          + ' to learn more about interactive tables.';\n",
              "        element.innerHTML = '';\n",
              "        dataTable['output_type'] = 'display_data';\n",
              "        await google.colab.output.renderOutput(dataTable, element);\n",
              "        const docLink = document.createElement('div');\n",
              "        docLink.innerHTML = docLinkHtml;\n",
              "        element.appendChild(docLink);\n",
              "      }\n",
              "    </script>\n",
              "  </div>\n",
              "\n",
              "\n",
              "    <div id=\"df-a2ccadd3-1c33-4fd3-934a-74df2adaec91\">\n",
              "      <button class=\"colab-df-quickchart\" onclick=\"quickchart('df-a2ccadd3-1c33-4fd3-934a-74df2adaec91')\"\n",
              "                title=\"Suggest charts\"\n",
              "                style=\"display:none;\">\n",
              "\n",
              "<svg xmlns=\"http://www.w3.org/2000/svg\" height=\"24px\"viewBox=\"0 0 24 24\"\n",
              "     width=\"24px\">\n",
              "    <g>\n",
              "        <path d=\"M19 3H5c-1.1 0-2 .9-2 2v14c0 1.1.9 2 2 2h14c1.1 0 2-.9 2-2V5c0-1.1-.9-2-2-2zM9 17H7v-7h2v7zm4 0h-2V7h2v10zm4 0h-2v-4h2v4z\"/>\n",
              "    </g>\n",
              "</svg>\n",
              "      </button>\n",
              "\n",
              "<style>\n",
              "  .colab-df-quickchart {\n",
              "      --bg-color: #E8F0FE;\n",
              "      --fill-color: #1967D2;\n",
              "      --hover-bg-color: #E2EBFA;\n",
              "      --hover-fill-color: #174EA6;\n",
              "      --disabled-fill-color: #AAA;\n",
              "      --disabled-bg-color: #DDD;\n",
              "  }\n",
              "\n",
              "  [theme=dark] .colab-df-quickchart {\n",
              "      --bg-color: #3B4455;\n",
              "      --fill-color: #D2E3FC;\n",
              "      --hover-bg-color: #434B5C;\n",
              "      --hover-fill-color: #FFFFFF;\n",
              "      --disabled-bg-color: #3B4455;\n",
              "      --disabled-fill-color: #666;\n",
              "  }\n",
              "\n",
              "  .colab-df-quickchart {\n",
              "    background-color: var(--bg-color);\n",
              "    border: none;\n",
              "    border-radius: 50%;\n",
              "    cursor: pointer;\n",
              "    display: none;\n",
              "    fill: var(--fill-color);\n",
              "    height: 32px;\n",
              "    padding: 0;\n",
              "    width: 32px;\n",
              "  }\n",
              "\n",
              "  .colab-df-quickchart:hover {\n",
              "    background-color: var(--hover-bg-color);\n",
              "    box-shadow: 0 1px 2px rgba(60, 64, 67, 0.3), 0 1px 3px 1px rgba(60, 64, 67, 0.15);\n",
              "    fill: var(--button-hover-fill-color);\n",
              "  }\n",
              "\n",
              "  .colab-df-quickchart-complete:disabled,\n",
              "  .colab-df-quickchart-complete:disabled:hover {\n",
              "    background-color: var(--disabled-bg-color);\n",
              "    fill: var(--disabled-fill-color);\n",
              "    box-shadow: none;\n",
              "  }\n",
              "\n",
              "  .colab-df-spinner {\n",
              "    border: 2px solid var(--fill-color);\n",
              "    border-color: transparent;\n",
              "    border-bottom-color: var(--fill-color);\n",
              "    animation:\n",
              "      spin 1s steps(1) infinite;\n",
              "  }\n",
              "\n",
              "  @keyframes spin {\n",
              "    0% {\n",
              "      border-color: transparent;\n",
              "      border-bottom-color: var(--fill-color);\n",
              "      border-left-color: var(--fill-color);\n",
              "    }\n",
              "    20% {\n",
              "      border-color: transparent;\n",
              "      border-left-color: var(--fill-color);\n",
              "      border-top-color: var(--fill-color);\n",
              "    }\n",
              "    30% {\n",
              "      border-color: transparent;\n",
              "      border-left-color: var(--fill-color);\n",
              "      border-top-color: var(--fill-color);\n",
              "      border-right-color: var(--fill-color);\n",
              "    }\n",
              "    40% {\n",
              "      border-color: transparent;\n",
              "      border-right-color: var(--fill-color);\n",
              "      border-top-color: var(--fill-color);\n",
              "    }\n",
              "    60% {\n",
              "      border-color: transparent;\n",
              "      border-right-color: var(--fill-color);\n",
              "    }\n",
              "    80% {\n",
              "      border-color: transparent;\n",
              "      border-right-color: var(--fill-color);\n",
              "      border-bottom-color: var(--fill-color);\n",
              "    }\n",
              "    90% {\n",
              "      border-color: transparent;\n",
              "      border-bottom-color: var(--fill-color);\n",
              "    }\n",
              "  }\n",
              "</style>\n",
              "\n",
              "      <script>\n",
              "        async function quickchart(key) {\n",
              "          const quickchartButtonEl =\n",
              "            document.querySelector('#' + key + ' button');\n",
              "          quickchartButtonEl.disabled = true;  // To prevent multiple clicks.\n",
              "          quickchartButtonEl.classList.add('colab-df-spinner');\n",
              "          try {\n",
              "            const charts = await google.colab.kernel.invokeFunction(\n",
              "                'suggestCharts', [key], {});\n",
              "          } catch (error) {\n",
              "            console.error('Error during call to suggestCharts:', error);\n",
              "          }\n",
              "          quickchartButtonEl.classList.remove('colab-df-spinner');\n",
              "          quickchartButtonEl.classList.add('colab-df-quickchart-complete');\n",
              "        }\n",
              "        (() => {\n",
              "          let quickchartButtonEl =\n",
              "            document.querySelector('#df-a2ccadd3-1c33-4fd3-934a-74df2adaec91 button');\n",
              "          quickchartButtonEl.style.display =\n",
              "            google.colab.kernel.accessAllowed ? 'block' : 'none';\n",
              "        })();\n",
              "      </script>\n",
              "    </div>\n",
              "\n",
              "  <div id=\"id_53fa7699-e708-48df-ba83-00210665a1cb\">\n",
              "    <style>\n",
              "      .colab-df-generate {\n",
              "        background-color: #E8F0FE;\n",
              "        border: none;\n",
              "        border-radius: 50%;\n",
              "        cursor: pointer;\n",
              "        display: none;\n",
              "        fill: #1967D2;\n",
              "        height: 32px;\n",
              "        padding: 0 0 0 0;\n",
              "        width: 32px;\n",
              "      }\n",
              "\n",
              "      .colab-df-generate:hover {\n",
              "        background-color: #E2EBFA;\n",
              "        box-shadow: 0px 1px 2px rgba(60, 64, 67, 0.3), 0px 1px 3px 1px rgba(60, 64, 67, 0.15);\n",
              "        fill: #174EA6;\n",
              "      }\n",
              "\n",
              "      [theme=dark] .colab-df-generate {\n",
              "        background-color: #3B4455;\n",
              "        fill: #D2E3FC;\n",
              "      }\n",
              "\n",
              "      [theme=dark] .colab-df-generate:hover {\n",
              "        background-color: #434B5C;\n",
              "        box-shadow: 0px 1px 3px 1px rgba(0, 0, 0, 0.15);\n",
              "        filter: drop-shadow(0px 1px 2px rgba(0, 0, 0, 0.3));\n",
              "        fill: #FFFFFF;\n",
              "      }\n",
              "    </style>\n",
              "    <button class=\"colab-df-generate\" onclick=\"generateWithVariable('amazon_two_data')\"\n",
              "            title=\"Generate code using this dataframe.\"\n",
              "            style=\"display:none;\">\n",
              "\n",
              "  <svg xmlns=\"http://www.w3.org/2000/svg\" height=\"24px\"viewBox=\"0 0 24 24\"\n",
              "       width=\"24px\">\n",
              "    <path d=\"M7,19H8.4L18.45,9,17,7.55,7,17.6ZM5,21V16.75L18.45,3.32a2,2,0,0,1,2.83,0l1.4,1.43a1.91,1.91,0,0,1,.58,1.4,1.91,1.91,0,0,1-.58,1.4L9.25,21ZM18.45,9,17,7.55Zm-12,3A5.31,5.31,0,0,0,4.9,8.1,5.31,5.31,0,0,0,1,6.5,5.31,5.31,0,0,0,4.9,4.9,5.31,5.31,0,0,0,6.5,1,5.31,5.31,0,0,0,8.1,4.9,5.31,5.31,0,0,0,12,6.5,5.46,5.46,0,0,0,6.5,12Z\"/>\n",
              "  </svg>\n",
              "    </button>\n",
              "    <script>\n",
              "      (() => {\n",
              "      const buttonEl =\n",
              "        document.querySelector('#id_53fa7699-e708-48df-ba83-00210665a1cb button.colab-df-generate');\n",
              "      buttonEl.style.display =\n",
              "        google.colab.kernel.accessAllowed ? 'block' : 'none';\n",
              "\n",
              "      buttonEl.onclick = () => {\n",
              "        google.colab.notebook.generateWithVariable('amazon_two_data');\n",
              "      }\n",
              "      })();\n",
              "    </script>\n",
              "  </div>\n",
              "\n",
              "    </div>\n",
              "  </div>\n"
            ],
            "application/vnd.google.colaboratory.intrinsic+json": {
              "type": "dataframe",
              "variable_name": "amazon_two_data",
              "summary": "{\n  \"name\": \"amazon_two_data\",\n  \"rows\": 8768,\n  \"fields\": [\n    {\n      \"column\": \"imdb_score\",\n      \"properties\": {\n        \"dtype\": \"number\",\n        \"std\": 1.3190916546488258,\n        \"min\": 1.1,\n        \"max\": 9.9,\n        \"num_unique_values\": 85,\n        \"samples\": [\n          1.9,\n          5.6,\n          1.6\n        ],\n        \"semantic_type\": \"\",\n        \"description\": \"\"\n      }\n    },\n    {\n      \"column\": \"id\",\n      \"properties\": {\n        \"dtype\": \"string\",\n        \"num_unique_values\": 8768,\n        \"samples\": [\n          \"tm409135\",\n          \"tm179722\",\n          \"tm193089\"\n        ],\n        \"semantic_type\": \"\",\n        \"description\": \"\"\n      }\n    },\n    {\n      \"column\": \"imdb_rating\",\n      \"properties\": {\n        \"dtype\": \"number\",\n        \"std\": 1.2702159351820672,\n        \"min\": 1.1,\n        \"max\": 9.9,\n        \"num_unique_values\": 85,\n        \"samples\": [\n          1.9,\n          5.6,\n          1.6\n        ],\n        \"semantic_type\": \"\",\n        \"description\": \"\"\n      }\n    }\n  ]\n}"
            }
          },
          "metadata": {},
          "execution_count": 46
        }
      ]
    },
    {
      "cell_type": "code",
      "source": [
        "amazon_two_data=amazon_two_data.drop('imdb_score',axis=1)"
      ],
      "metadata": {
        "id": "TOcP7yyXVHXX"
      },
      "execution_count": null,
      "outputs": []
    },
    {
      "cell_type": "code",
      "source": [
        "amazon_prime_video=amazon_prime_video.drop('imdb_score',axis=1)"
      ],
      "metadata": {
        "id": "S4s__Uptq3F4"
      },
      "execution_count": null,
      "outputs": []
    },
    {
      "cell_type": "code",
      "source": [
        "amazon_prime = amazon_prime_video.merge(amazon_two_data, on='id', how='left')\n"
      ],
      "metadata": {
        "id": "BI9P_HXd3aXl"
      },
      "execution_count": null,
      "outputs": []
    },
    {
      "cell_type": "code",
      "source": [
        "import pandas as pd\n",
        "import matplotlib.pyplot as plt\n",
        "\n",
        "# Step 1: Create 'decade' column\n",
        "amazon_prime['decade'] = (amazon_prime['release_year'] // 10) * 10\n",
        "\n",
        "# Step 2: Count total and unknown per decade\n",
        "decade_total = amazon_prime.groupby('decade').size()\n",
        "decade_unknown = amazon_prime[amazon_prime['age_certification'] == 'Unknown'].groupby('decade').size()\n",
        "\n",
        "# Step 3: Calculate percentage\n",
        "decade_percent_unknown = (decade_unknown / decade_total * 100).fillna(0)\n",
        "\n",
        "# Step 4: Plot\n",
        "plt.figure(figsize=(10,5))\n",
        "decade_percent_unknown.plot(kind='bar', color='salmon')\n",
        "plt.title('Percentage of Titles with Unknown Age Certification by Decade')\n",
        "plt.xlabel('Decade')\n",
        "plt.ylabel('% of Unknown Age Certifications')\n",
        "plt.xticks(rotation=45)\n",
        "plt.grid(axis='y', linestyle='--', alpha=0.7)\n",
        "plt.tight_layout()\n",
        "plt.show()\n"
      ],
      "metadata": {
        "colab": {
          "base_uri": "https://localhost:8080/",
          "height": 507
        },
        "id": "qceXS6U_MU4a",
        "outputId": "2fbc4472-fa1a-4023-e091-0355661682c8"
      },
      "execution_count": null,
      "outputs": [
        {
          "output_type": "display_data",
          "data": {
            "text/plain": [
              "<Figure size 1000x500 with 1 Axes>"
            ],
            "image/png": "[encoded data removed]"
          },
          "metadata": {}
        }
      ]
    },
    {
      "cell_type": "code",
      "source": [
        "#insight and Observation\n",
        "\n",
        "#Historical context: Certification data is sparse in early cinema.\n",
        "\n",
        "#Mid-century improvement: Likely the result of stricter regulations and better archiving.\n",
        "\n",
        "#Modern spike: Could reflect changes in distribution (streaming, international content) rather than negligence.\n",
        "\n"
      ],
      "metadata": {
        "id": "7H2mwFEdc31m"
      },
      "execution_count": null,
      "outputs": []
    },
    {
      "cell_type": "code",
      "execution_count": null,
      "metadata": {
        "id": "_MCnT8wlFUZ1",
        "colab": {
          "base_uri": "https://localhost:8080/",
          "height": 178
        },
        "outputId": "cb380e8d-887b-43bd-8e04-663043655c96"
      },
      "outputs": [
        {
          "output_type": "execute_result",
          "data": {
            "text/plain": [
              "imdb_rating           9.9\n",
              "title              爱，来的刚好\n",
              "tmdb_popularity    1437.9\n",
              "dtype: object"
            ],
            "text/html": [
              "<div>\n",
              "<style scoped>\n",
              "    .dataframe tbody tr th:only-of-type {\n",
              "        vertical-align: middle;\n",
              "    }\n",
              "\n",
              "    .dataframe tbody tr th {\n",
              "        vertical-align: top;\n",
              "    }\n",
              "\n",
              "    .dataframe thead th {\n",
              "        text-align: right;\n",
              "    }\n",
              "</style>\n",
              "<table border=\"1\" class=\"dataframe\">\n",
              "  <thead>\n",
              "    <tr style=\"text-align: right;\">\n",
              "      <th></th>\n",
              "      <th>0</th>\n",
              "    </tr>\n",
              "  </thead>\n",
              "  <tbody>\n",
              "    <tr>\n",
              "      <th>imdb_rating</th>\n",
              "      <td>9.9</td>\n",
              "    </tr>\n",
              "    <tr>\n",
              "      <th>title</th>\n",
              "      <td>爱，来的刚好</td>\n",
              "    </tr>\n",
              "    <tr>\n",
              "      <th>tmdb_popularity</th>\n",
              "      <td>1437.9</td>\n",
              "    </tr>\n",
              "  </tbody>\n",
              "</table>\n",
              "</div><br><label><b>dtype:</b> object</label>"
            ]
          },
          "metadata": {},
          "execution_count": 50
        }
      ],
      "source": [
        "amazon_prime[['imdb_rating','title','tmdb_popularity']].max()"
      ]
    },
    {
      "cell_type": "code",
      "source": [
        "amazon_prime.isnull().mean().sort_values(ascending=False)*100"
      ],
      "metadata": {
        "id": "SYYjiVKbYvOZ"
      },
      "execution_count": null,
      "outputs": []
    },
    {
      "cell_type": "code",
      "execution_count": null,
      "metadata": {
        "id": "O7lLneCv9W9g"
      },
      "outputs": [],
      "source": [
        "#importing all important libraries\n",
        "import pandas as pd\n",
        "from sklearn.impute import KNNImputer\n",
        "from sklearn.preprocessing import StandardScaler\n",
        "df= amazon_prime[['imdb_votes', 'tmdb_score', 'tmdb_popularity']].copy()\n",
        "\n",
        "#Before applying the knn imputer scaling the data since KNN is distance based\n",
        "scaler = StandardScaler()\n",
        "scaled_knn_data = scaler.fit_transform(df)\n",
        "\n",
        "#applying KNNImputer\n",
        "imputer=KNNImputer(n_neighbors=5)\n",
        "imputed_data=imputer.fit_transform(scaled_knn_data)\n",
        "\n",
        "#Inverse scaling to return to original scale:\n",
        "imputed=scaler.inverse_transform(imputed_data)\n",
        "\n",
        "#updating the original dataframe\n",
        "df[:] = imputed\n",
        "\n",
        "amazon_prime[['imdb_votes', 'tmdb_score', 'tmdb_popularity']] = df"
      ]
    },
    {
      "cell_type": "code",
      "execution_count": null,
      "metadata": {
        "id": "rx4URONA-iLl"
      },
      "outputs": [],
      "source": [
        "amazon_prime.to_csv('amazon_cleaned.csv', index=False)\n"
      ]
    },
    {
      "cell_type": "code",
      "source": [
        "#checking if there are any outliers\n",
        "#should be less than 10\n",
        "import seaborn as sns\n",
        "import matplotlib.pyplot as plt\n",
        "\n",
        "sns.boxplot(x='imdb_rating', data=amazon_prime)\n",
        "\n",
        "# Display the plot\n",
        "plt.show()"
      ],
      "metadata": {
        "colab": {
          "base_uri": "https://localhost:8080/",
          "height": 450
        },
        "id": "rcn3L8Z_-UPn",
        "outputId": "f642f03e-32d0-4be3-8d4a-6f82d404d72b"
      },
      "execution_count": null,
      "outputs": [
        {
          "output_type": "display_data",
          "data": {
            "text/plain": [
              "<Figure size 640x480 with 1 Axes>"
            ],
            "image/png": "[encoded data removed]"
          },
          "metadata": {}
        }
      ]
    },
    {
      "cell_type": "code",
      "source": [
        "\n",
        "import seaborn as sns\n",
        "import matplotlib.pyplot as plt\n",
        "sns.boxplot(x='tmdb_popularity', data=amazon_prime)\n",
        "\n",
        "# Display the plot\n",
        "plt.show()"
      ],
      "metadata": {
        "colab": {
          "base_uri": "https://localhost:8080/",
          "height": 450
        },
        "id": "GfO1tqr2-oD-",
        "outputId": "f000d22b-3a9e-470c-d168-d5f7bd851558"
      },
      "execution_count": null,
      "outputs": [
        {
          "output_type": "display_data",
          "data": {
            "text/plain": [
              "<Figure size 640x480 with 1 Axes>"
            ],
            "image/png": "[encoded data removed]"
          },
          "metadata": {}
        }
      ]
    },
    {
      "cell_type": "code",
      "source": [
        "\n",
        "import seaborn as sns\n",
        "import matplotlib.pyplot as plt\n",
        "\n",
        "sns.boxplot(x='imdb_votes', data=amazon_prime)\n",
        "\n",
        "# Display the plot\n",
        "plt.show()"
      ],
      "metadata": {
        "colab": {
          "base_uri": "https://localhost:8080/",
          "height": 450
        },
        "id": "Il7fPUvr-zgP",
        "outputId": "34619f19-b4f1-467c-f62c-a2619eb5151a"
      },
      "execution_count": null,
      "outputs": [
        {
          "output_type": "display_data",
          "data": {
            "text/plain": [
              "<Figure size 640x480 with 1 Axes>"
            ],
            "image/png": "[encoded data removed]"
          },
          "metadata": {}
        }
      ]
    },
    {
      "cell_type": "code",
      "source": [
        "amazon_prime[['imdb_votes','tmdb_score','tmdb_popularity','imdb_rating']].max()\n",
        "\n",
        "#\"IMDB votes and TMDB popularity are open-ended metrics and can reach very high values, so they do not have fixed upper limits.\n",
        " #However, TMDB scores and IMDB ratings are expected to fall within a 0 to 10 range.\n",
        " #Any value exceeding 10 in these columns should be considered an outlier or a data error.\""
      ],
      "metadata": {
        "colab": {
          "base_uri": "https://localhost:8080/",
          "height": 210
        },
        "id": "26pXZ9Oo_Lgv",
        "outputId": "0820dcbc-42b5-4d53-db27-8909856d3b18"
      },
      "execution_count": null,
      "outputs": [
        {
          "output_type": "execute_result",
          "data": {
            "text/plain": [
              "imdb_votes         1133692.0\n",
              "tmdb_score              10.0\n",
              "tmdb_popularity       1437.9\n",
              "imdb_rating              9.9\n",
              "dtype: float64"
            ],
            "text/html": [
              "<div>\n",
              "<style scoped>\n",
              "    .dataframe tbody tr th:only-of-type {\n",
              "        vertical-align: middle;\n",
              "    }\n",
              "\n",
              "    .dataframe tbody tr th {\n",
              "        vertical-align: top;\n",
              "    }\n",
              "\n",
              "    .dataframe thead th {\n",
              "        text-align: right;\n",
              "    }\n",
              "</style>\n",
              "<table border=\"1\" class=\"dataframe\">\n",
              "  <thead>\n",
              "    <tr style=\"text-align: right;\">\n",
              "      <th></th>\n",
              "      <th>0</th>\n",
              "    </tr>\n",
              "  </thead>\n",
              "  <tbody>\n",
              "    <tr>\n",
              "      <th>imdb_votes</th>\n",
              "      <td>1133692.0</td>\n",
              "    </tr>\n",
              "    <tr>\n",
              "      <th>tmdb_score</th>\n",
              "      <td>10.0</td>\n",
              "    </tr>\n",
              "    <tr>\n",
              "      <th>tmdb_popularity</th>\n",
              "      <td>1437.9</td>\n",
              "    </tr>\n",
              "    <tr>\n",
              "      <th>imdb_rating</th>\n",
              "      <td>9.9</td>\n",
              "    </tr>\n",
              "  </tbody>\n",
              "</table>\n",
              "</div><br><label><b>dtype:</b> float64</label>"
            ]
          },
          "metadata": {},
          "execution_count": 56
        }
      ]
    },
    {
      "cell_type": "code",
      "execution_count": null,
      "metadata": {
        "id": "Znb1Jhocmvp8",
        "colab": {
          "base_uri": "https://localhost:8080/",
          "height": 467
        },
        "outputId": "05e67298-e846-4ea7-892c-cc891c1624dc"
      },
      "outputs": [
        {
          "output_type": "execute_result",
          "data": {
            "text/plain": [
              "<Axes: xlabel='tmdb_popularity'>"
            ]
          },
          "metadata": {},
          "execution_count": 57
        },
        {
          "output_type": "display_data",
          "data": {
            "text/plain": [
              "<Figure size 640x480 with 1 Axes>"
            ],
            "image/png": "[encoded data removed]"
          },
          "metadata": {}
        }
      ],
      "source": [
        "# For visualization\n",
        "sns.boxplot(x=np.log1p(amazon_prime['tmdb_popularity']))\n"
      ]
    },
    {
      "cell_type": "code",
      "source": [
        "#Identified that tmdb_popularity can go arbitrarily high\n",
        "#its not a error\n",
        "#Used log1p() to normalize the feature"
      ],
      "metadata": {
        "id": "7HW4U0wvAnBf"
      },
      "execution_count": null,
      "outputs": []
    },
    {
      "cell_type": "code",
      "execution_count": null,
      "metadata": {
        "id": "SV5OUlVd8cGE",
        "colab": {
          "base_uri": "https://localhost:8080/",
          "height": 607
        },
        "outputId": "8fa91a4d-b91f-46de-a67d-f70b2df940a8"
      },
      "outputs": [
        {
          "output_type": "display_data",
          "data": {
            "text/plain": [
              "<Figure size 1000x600 with 1 Axes>"
            ],
            "image/png": "[encoded data removed]"
          },
          "metadata": {}
        }
      ],
      "source": [
        "import matplotlib.pyplot as plt\n",
        "import pandas as pd\n",
        "\n",
        "# Assume amazon DataFrame is already loaded\n",
        "df = amazon_prime[['genres', 'type']].copy()\n",
        "\n",
        "# Find the most common genre\n",
        "top_genre = df['genres'].value_counts().idxmax()\n",
        "top_genre_count = df['genres'].value_counts().max()\n",
        "\n",
        "# Plot horizontal bar chart for types\n",
        "ax = df.groupby('type').size().plot(kind='barh', figsize=(10, 6), color='skyblue')\n",
        "plt.title('Content Count by Type')\n",
        "\n",
        "# Add annotation about dominant genre\n",
        "plt.text(0.5, -0.5, f'Dominant Genre: {top_genre}', fontsize=12, color='darkred')\n",
        "\n",
        "plt.tight_layout()\n",
        "plt.show()\n"
      ]
    },
    {
      "cell_type": "code",
      "source": [
        "###Observation\n",
        "\n",
        "#genre drama is dominating on the platform"
      ],
      "metadata": {
        "id": "UrOs8vASLioP"
      },
      "execution_count": null,
      "outputs": []
    },
    {
      "cell_type": "code",
      "source": [
        "#IMDb Ratings & Popularity: What are the highest-rated or most popular shows on the platform?\n",
        "import plotly.express as px\n",
        "import pandas as pd\n",
        "\n",
        "u=amazon_prime[['title','imdb_rating','type','imdb_votes','release_year']]\n",
        "x=u.groupby(['title','imdb_rating','type','release_year','imdb_votes'],as_index=False)['imdb_rating'].max()\n",
        "popularity=x.sort_values('imdb_rating',ascending=False).head(10)\n",
        "\n",
        "# Plot\n",
        "fig = px.bar(\n",
        "    data_frame=popularity,\n",
        "    x='title',  # Changed to 'title' for better category visualization\n",
        "    y='imdb_rating',\n",
        "    color='type',\n",
        "    barmode='group',\n",
        "    hover_data=['release_year', 'imdb_votes']\n",
        ")\n",
        "fig.update_layout(title='top 10 highest rated 0r popularity with titles on amazon')\n",
        "fig.show()"
      ],
      "metadata": {
        "colab": {
          "base_uri": "https://localhost:8080/",
          "height": 542
        },
        "id": "Wa4-eojKQkjV",
        "outputId": "1621dad9-65db-464b-bb39-7d69bca601ed"
      },
      "execution_count": null,
      "outputs": [
        {
          "output_type": "display_data",
          "data": {
            "text/html": [
              "<html>\n",
              "<head><meta charset=\"utf-8\" /></head>\n",
              "<body>\n",
              "    <div>            <script src=\"https://cdnjs.cloudflare.com/ajax/libs/mathjax/2.7.5/MathJax.js?config=TeX-AMS-MML_SVG\"></script><script type=\"text/javascript\">if (window.MathJax && window.MathJax.Hub && window.MathJax.Hub.Config) {window.MathJax.Hub.Config({SVG: {font: \"STIX-Web\"}});}</script>                <script type=\"text/javascript\">window.PlotlyConfig = {MathJaxConfig: 'local'};</script>\n",
              "        <script charset=\"utf-8\" src=\"https://cdn.plot.ly/plotly-2.35.2.min.js\"></script>                <div id=\"b8c9f102-8a8e-47c3-90d2-c30c94dd16d1\" class=\"plotly-graph-div\" style=\"height:525px; width:100%;\"></div>            <script type=\"text/javascript\">                                    window.PLOTLYENV=window.PLOTLYENV || {};                                    if (document.getElementById(\"b8c9f102-8a8e-47c3-90d2-c30c94dd16d1\")) {                    Plotly.newPlot(                        \"b8c9f102-8a8e-47c3-90d2-c30c94dd16d1\",                        [{\"alignmentgroup\":\"True\",\"customdata\":[[2022.0,2036.0],[2021.0,517.0],[2021.0,175187.0],[2021.0,58.0],[2020.0,306.0],[2020.0,109759.0],[2019.0,81.0],[1989.0,228.0]],\"hovertemplate\":\"type=MOVIE\\u003cbr\\u003etitle=%{x}\\u003cbr\\u003eimdb_rating=%{y}\\u003cbr\\u003erelease_year=%{customdata[0]}\\u003cbr\\u003eimdb_votes=%{customdata[1]}\\u003cextra\\u003e\\u003c\\u002fextra\\u003e\",\"legendgroup\":\"MOVIE\",\"marker\":{\"color\":\"#636efa\",\"pattern\":{\"shape\":\"\"}},\"name\":\"MOVIE\",\"offsetgroup\":\"MOVIE\",\"orientation\":\"v\",\"showlegend\":true,\"textposition\":\"auto\",\"x\":[\"Pawankhind\",\"Tari Sathe\",\"Jai Bhim\",\"Pazhagiya Naatkal\",\"Quota\",\"Soorarai Pottru\",\"Alexander Babu: Alex in Wonderland\",\"Steven Banks: Home Entertainment Center\"],\"xaxis\":\"x\",\"y\":[9.9,9.4,9.3,9.3,9.2,9.2,9.2,9.1],\"yaxis\":\"y\",\"type\":\"bar\"},{\"alignmentgroup\":\"True\",\"customdata\":[[2021.0,99.0],[2019.0,25538.0]],\"hovertemplate\":\"type=SHOW\\u003cbr\\u003etitle=%{x}\\u003cbr\\u003eimdb_rating=%{y}\\u003cbr\\u003erelease_year=%{customdata[0]}\\u003cbr\\u003eimdb_votes=%{customdata[1]}\\u003cextra\\u003e\\u003c\\u002fextra\\u003e\",\"legendgroup\":\"SHOW\",\"marker\":{\"color\":\"#EF553B\",\"pattern\":{\"shape\":\"\"}},\"name\":\"SHOW\",\"offsetgroup\":\"SHOW\",\"orientation\":\"v\",\"showlegend\":true,\"textposition\":\"auto\",\"x\":[\"Couple of Mirrors\",\"The Chosen\"],\"xaxis\":\"x\",\"y\":[9.5,9.4],\"yaxis\":\"y\",\"type\":\"bar\"}],                        {\"template\":{\"data\":{\"histogram2dcontour\":[{\"type\":\"histogram2dcontour\",\"colorbar\":{\"outlinewidth\":0,\"ticks\":\"\"},\"colorscale\":[[0.0,\"#0d0887\"],[0.1111111111111111,\"#46039f\"],[0.2222222222222222,\"#7201a8\"],[0.3333333333333333,\"#9c179e\"],[0.4444444444444444,\"#bd3786\"],[0.5555555555555556,\"#d8576b\"],[0.6666666666666666,\"#ed7953\"],[0.7777777777777778,\"#fb9f3a\"],[0.8888888888888888,\"#fdca26\"],[1.0,\"#f0f921\"]]}],\"choropleth\":[{\"type\":\"choropleth\",\"colorbar\":{\"outlinewidth\":0,\"ticks\":\"\"}}],\"histogram2d\":[{\"type\":\"histogram2d\",\"colorbar\":{\"outlinewidth\":0,\"ticks\":\"\"},\"colorscale\":[[0.0,\"#0d0887\"],[0.1111111111111111,\"#46039f\"],[0.2222222222222222,\"#7201a8\"],[0.3333333333333333,\"#9c179e\"],[0.4444444444444444,\"#bd3786\"],[0.5555555555555556,\"#d8576b\"],[0.6666666666666666,\"#ed7953\"],[0.7777777777777778,\"#fb9f3a\"],[0.8888888888888888,\"#fdca26\"],[1.0,\"#f0f921\"]]}],\"heatmap\":[{\"type\":\"heatmap\",\"colorbar\":{\"outlinewidth\":0,\"ticks\":\"\"},\"colorscale\":[[0.0,\"#0d0887\"],[0.1111111111111111,\"#46039f\"],[0.2222222222222222,\"#7201a8\"],[0.3333333333333333,\"#9c179e\"],[0.4444444444444444,\"#bd3786\"],[0.5555555555555556,\"#d8576b\"],[0.6666666666666666,\"#ed7953\"],[0.7777777777777778,\"#fb9f3a\"],[0.8888888888888888,\"#fdca26\"],[1.0,\"#f0f921\"]]}],\"heatmapgl\":[{\"type\":\"heatmapgl\",\"colorbar\":{\"outlinewidth\":0,\"ticks\":\"\"},\"colorscale\":[[0.0,\"#0d0887\"],[0.1111111111111111,\"#46039f\"],[0.2222222222222222,\"#7201a8\"],[0.3333333333333333,\"#9c179e\"],[0.4444444444444444,\"#bd3786\"],[0.5555555555555556,\"#d8576b\"],[0.6666666666666666,\"#ed7953\"],[0.7777777777777778,\"#fb9f3a\"],[0.8888888888888888,\"#fdca26\"],[1.0,\"#f0f921\"]]}],\"contourcarpet\":[{\"type\":\"contourcarpet\",\"colorbar\":{\"outlinewidth\":0,\"ticks\":\"\"}}],\"contour\":[{\"type\":\"contour\",\"colorbar\":{\"outlinewidth\":0,\"ticks\":\"\"},\"colorscale\":[[0.0,\"#0d0887\"],[0.1111111111111111,\"#46039f\"],[0.2222222222222222,\"#7201a8\"],[0.3333333333333333,\"#9c179e\"],[0.4444444444444444,\"#bd3786\"],[0.5555555555555556,\"#d8576b\"],[0.6666666666666666,\"#ed7953\"],[0.7777777777777778,\"#fb9f3a\"],[0.8888888888888888,\"#fdca26\"],[1.0,\"#f0f921\"]]}],\"surface\":[{\"type\":\"surface\",\"colorbar\":{\"outlinewidth\":0,\"ticks\":\"\"},\"colorscale\":[[0.0,\"#0d0887\"],[0.1111111111111111,\"#46039f\"],[0.2222222222222222,\"#7201a8\"],[0.3333333333333333,\"#9c179e\"],[0.4444444444444444,\"#bd3786\"],[0.5555555555555556,\"#d8576b\"],[0.6666666666666666,\"#ed7953\"],[0.7777777777777778,\"#fb9f3a\"],[0.8888888888888888,\"#fdca26\"],[1.0,\"#f0f921\"]]}],\"mesh3d\":[{\"type\":\"mesh3d\",\"colorbar\":{\"outlinewidth\":0,\"ticks\":\"\"}}],\"scatter\":[{\"fillpattern\":{\"fillmode\":\"overlay\",\"size\":10,\"solidity\":0.2},\"type\":\"scatter\"}],\"parcoords\":[{\"type\":\"parcoords\",\"line\":{\"colorbar\":{\"outlinewidth\":0,\"ticks\":\"\"}}}],\"scatterpolargl\":[{\"type\":\"scatterpolargl\",\"marker\":{\"colorbar\":{\"outlinewidth\":0,\"ticks\":\"\"}}}],\"bar\":[{\"error_x\":{\"color\":\"#2a3f5f\"},\"error_y\":{\"color\":\"#2a3f5f\"},\"marker\":{\"line\":{\"color\":\"#E5ECF6\",\"width\":0.5},\"pattern\":{\"fillmode\":\"overlay\",\"size\":10,\"solidity\":0.2}},\"type\":\"bar\"}],\"scattergeo\":[{\"type\":\"scattergeo\",\"marker\":{\"colorbar\":{\"outlinewidth\":0,\"ticks\":\"\"}}}],\"scatterpolar\":[{\"type\":\"scatterpolar\",\"marker\":{\"colorbar\":{\"outlinewidth\":0,\"ticks\":\"\"}}}],\"histogram\":[{\"marker\":{\"pattern\":{\"fillmode\":\"overlay\",\"size\":10,\"solidity\":0.2}},\"type\":\"histogram\"}],\"scattergl\":[{\"type\":\"scattergl\",\"marker\":{\"colorbar\":{\"outlinewidth\":0,\"ticks\":\"\"}}}],\"scatter3d\":[{\"type\":\"scatter3d\",\"line\":{\"colorbar\":{\"outlinewidth\":0,\"ticks\":\"\"}},\"marker\":{\"colorbar\":{\"outlinewidth\":0,\"ticks\":\"\"}}}],\"scattermapbox\":[{\"type\":\"scattermapbox\",\"marker\":{\"colorbar\":{\"outlinewidth\":0,\"ticks\":\"\"}}}],\"scatterternary\":[{\"type\":\"scatterternary\",\"marker\":{\"colorbar\":{\"outlinewidth\":0,\"ticks\":\"\"}}}],\"scattercarpet\":[{\"type\":\"scattercarpet\",\"marker\":{\"colorbar\":{\"outlinewidth\":0,\"ticks\":\"\"}}}],\"carpet\":[{\"aaxis\":{\"endlinecolor\":\"#2a3f5f\",\"gridcolor\":\"white\",\"linecolor\":\"white\",\"minorgridcolor\":\"white\",\"startlinecolor\":\"#2a3f5f\"},\"baxis\":{\"endlinecolor\":\"#2a3f5f\",\"gridcolor\":\"white\",\"linecolor\":\"white\",\"minorgridcolor\":\"white\",\"startlinecolor\":\"#2a3f5f\"},\"type\":\"carpet\"}],\"table\":[{\"cells\":{\"fill\":{\"color\":\"#EBF0F8\"},\"line\":{\"color\":\"white\"}},\"header\":{\"fill\":{\"color\":\"#C8D4E3\"},\"line\":{\"color\":\"white\"}},\"type\":\"table\"}],\"barpolar\":[{\"marker\":{\"line\":{\"color\":\"#E5ECF6\",\"width\":0.5},\"pattern\":{\"fillmode\":\"overlay\",\"size\":10,\"solidity\":0.2}},\"type\":\"barpolar\"}],\"pie\":[{\"automargin\":true,\"type\":\"pie\"}]},\"layout\":{\"autotypenumbers\":\"strict\",\"colorway\":[\"#636efa\",\"#EF553B\",\"#00cc96\",\"#ab63fa\",\"#FFA15A\",\"#19d3f3\",\"#FF6692\",\"#B6E880\",\"#FF97FF\",\"#FECB52\"],\"font\":{\"color\":\"#2a3f5f\"},\"hovermode\":\"closest\",\"hoverlabel\":{\"align\":\"left\"},\"paper_bgcolor\":\"white\",\"plot_bgcolor\":\"#E5ECF6\",\"polar\":{\"bgcolor\":\"#E5ECF6\",\"angularaxis\":{\"gridcolor\":\"white\",\"linecolor\":\"white\",\"ticks\":\"\"},\"radialaxis\":{\"gridcolor\":\"white\",\"linecolor\":\"white\",\"ticks\":\"\"}},\"ternary\":{\"bgcolor\":\"#E5ECF6\",\"aaxis\":{\"gridcolor\":\"white\",\"linecolor\":\"white\",\"ticks\":\"\"},\"baxis\":{\"gridcolor\":\"white\",\"linecolor\":\"white\",\"ticks\":\"\"},\"caxis\":{\"gridcolor\":\"white\",\"linecolor\":\"white\",\"ticks\":\"\"}},\"coloraxis\":{\"colorbar\":{\"outlinewidth\":0,\"ticks\":\"\"}},\"colorscale\":{\"sequential\":[[0.0,\"#0d0887\"],[0.1111111111111111,\"#46039f\"],[0.2222222222222222,\"#7201a8\"],[0.3333333333333333,\"#9c179e\"],[0.4444444444444444,\"#bd3786\"],[0.5555555555555556,\"#d8576b\"],[0.6666666666666666,\"#ed7953\"],[0.7777777777777778,\"#fb9f3a\"],[0.8888888888888888,\"#fdca26\"],[1.0,\"#f0f921\"]],\"sequentialminus\":[[0.0,\"#0d0887\"],[0.1111111111111111,\"#46039f\"],[0.2222222222222222,\"#7201a8\"],[0.3333333333333333,\"#9c179e\"],[0.4444444444444444,\"#bd3786\"],[0.5555555555555556,\"#d8576b\"],[0.6666666666666666,\"#ed7953\"],[0.7777777777777778,\"#fb9f3a\"],[0.8888888888888888,\"#fdca26\"],[1.0,\"#f0f921\"]],\"diverging\":[[0,\"#8e0152\"],[0.1,\"#c51b7d\"],[0.2,\"#de77ae\"],[0.3,\"#f1b6da\"],[0.4,\"#fde0ef\"],[0.5,\"#f7f7f7\"],[0.6,\"#e6f5d0\"],[0.7,\"#b8e186\"],[0.8,\"#7fbc41\"],[0.9,\"#4d9221\"],[1,\"#276419\"]]},\"xaxis\":{\"gridcolor\":\"white\",\"linecolor\":\"white\",\"ticks\":\"\",\"title\":{\"standoff\":15},\"zerolinecolor\":\"white\",\"automargin\":true,\"zerolinewidth\":2},\"yaxis\":{\"gridcolor\":\"white\",\"linecolor\":\"white\",\"ticks\":\"\",\"title\":{\"standoff\":15},\"zerolinecolor\":\"white\",\"automargin\":true,\"zerolinewidth\":2},\"scene\":{\"xaxis\":{\"backgroundcolor\":\"#E5ECF6\",\"gridcolor\":\"white\",\"linecolor\":\"white\",\"showbackground\":true,\"ticks\":\"\",\"zerolinecolor\":\"white\",\"gridwidth\":2},\"yaxis\":{\"backgroundcolor\":\"#E5ECF6\",\"gridcolor\":\"white\",\"linecolor\":\"white\",\"showbackground\":true,\"ticks\":\"\",\"zerolinecolor\":\"white\",\"gridwidth\":2},\"zaxis\":{\"backgroundcolor\":\"#E5ECF6\",\"gridcolor\":\"white\",\"linecolor\":\"white\",\"showbackground\":true,\"ticks\":\"\",\"zerolinecolor\":\"white\",\"gridwidth\":2}},\"shapedefaults\":{\"line\":{\"color\":\"#2a3f5f\"}},\"annotationdefaults\":{\"arrowcolor\":\"#2a3f5f\",\"arrowhead\":0,\"arrowwidth\":1},\"geo\":{\"bgcolor\":\"white\",\"landcolor\":\"#E5ECF6\",\"subunitcolor\":\"white\",\"showland\":true,\"showlakes\":true,\"lakecolor\":\"white\"},\"title\":{\"x\":0.05},\"mapbox\":{\"style\":\"light\"}}},\"xaxis\":{\"anchor\":\"y\",\"domain\":[0.0,1.0],\"title\":{\"text\":\"title\"}},\"yaxis\":{\"anchor\":\"x\",\"domain\":[0.0,1.0],\"title\":{\"text\":\"imdb_rating\"}},\"legend\":{\"title\":{\"text\":\"type\"},\"tracegroupgap\":0},\"margin\":{\"t\":60},\"barmode\":\"group\",\"title\":{\"text\":\"top 10 highest rated 0r popularity with titles on amazon\"}},                        {\"responsive\": true}                    ).then(function(){\n",
              "                            \n",
              "var gd = document.getElementById('b8c9f102-8a8e-47c3-90d2-c30c94dd16d1');\n",
              "var x = new MutationObserver(function (mutations, observer) {{\n",
              "        var display = window.getComputedStyle(gd).display;\n",
              "        if (!display || display === 'none') {{\n",
              "            console.log([gd, 'removed!']);\n",
              "            Plotly.purge(gd);\n",
              "            observer.disconnect();\n",
              "        }}\n",
              "}});\n",
              "\n",
              "// Listen for the removal of the full notebook cells\n",
              "var notebookContainer = gd.closest('#notebook-container');\n",
              "if (notebookContainer) {{\n",
              "    x.observe(notebookContainer, {childList: true});\n",
              "}}\n",
              "\n",
              "// Listen for the clearing of the current output cell\n",
              "var outputEl = gd.closest('.output');\n",
              "if (outputEl) {{\n",
              "    x.observe(outputEl, {childList: true});\n",
              "}}\n",
              "\n",
              "                        })                };                            </script>        </div>\n",
              "</body>\n",
              "</html>"
            ]
          },
          "metadata": {}
        }
      ]
    },
    {
      "cell_type": "code",
      "source": [],
      "metadata": {
        "id": "38VEFXhNfqiw"
      },
      "execution_count": null,
      "outputs": []
    },
    {
      "cell_type": "code",
      "source": [
        "amazon['production_countries'].apply(lambda x: len(x) == 0).sum()\n"
      ],
      "metadata": {
        "id": "RCI2K552pBt_",
        "colab": {
          "base_uri": "https://localhost:8080/"
        },
        "outputId": "1c0ba77e-f5dc-47f9-df63-b8b48c0d70c7"
      },
      "execution_count": null,
      "outputs": [
        {
          "output_type": "execute_result",
          "data": {
            "text/plain": [
              "np.int64(0)"
            ]
          },
          "metadata": {},
          "execution_count": 126
        }
      ]
    },
    {
      "cell_type": "code",
      "source": [
        "https://www.datacamp.com/blog/8-power-bi-projects-to-develop-your-skills"
      ],
      "metadata": {
        "id": "KGAvLPEZe_Cj"
      },
      "execution_count": null,
      "outputs": []
    },
    {
      "cell_type": "code",
      "source": [
        "import matplotlib.pyplot as plt\n",
        "import pandas as pd\n",
        "\n",
        "# Filter only recent years (optional: 1950 onwards)\n",
        "v = amazon_prime[['release_year', 'type']]\n",
        "v = v[v['release_year'] >= 2010]\n",
        "colors = ['CFFFE2', 'FEFBC7']\n",
        "\n",
        "# Group and pivot\n",
        "fg = v.groupby(['release_year', 'type']).size().unstack(fill_value=0)\n",
        "\n",
        "# Plot\n",
        "fg.plot(kind='bar', stacked=True, figsize=(14, 6),\n",
        "        colormap='tab20c', width=0.8)\n",
        "\n",
        "plt.title(\"Amazon Prime Content by Type Over the Years\")\n",
        "plt.xlabel(\"Release Year\")\n",
        "plt.ylabel(\"Number of Titles\")\n",
        "plt.xticks(rotation=45, fontsize=8)\n",
        "plt.legend(title=\"Content Type\")\n",
        "plt.tight_layout()\n",
        "plt.show()\n"
      ],
      "metadata": {
        "colab": {
          "base_uri": "https://localhost:8080/",
          "height": 607
        },
        "id": "-kC4nMNkVCSh",
        "outputId": "8b50c05f-16ae-420b-c7c5-66de979e65aa"
      },
      "execution_count": null,
      "outputs": [
        {
          "output_type": "display_data",
          "data": {
            "text/plain": [
              "<Figure size 1400x600 with 1 Axes>"
            ],
            "image/png": "[encoded data removed]"
          },
          "metadata": {}
        }
      ]
    },
    {
      "cell_type": "code",
      "source": [],
      "metadata": {
        "id": "10nv-OYRtC3k"
      },
      "execution_count": null,
      "outputs": []
    },
    {
      "cell_type": "code",
      "source": [
        "#Vizualising with top 5 production countries\n",
        "x=amazon_prime.groupby('production_countries').size().sort_values(ascending=False)\n",
        "updated_chart=x.head(5)\n",
        "updated_chart\n",
        "import matplotlib.pyplot as plt\n",
        "import seaborn as sns\n",
        "\n",
        "plt.figure(figsize=(8, 6))\n",
        "plt.pie(updated_chart, labels=updated_chart.index,explode=[0.1,0,0,0,0],autopct='%1.1f%%')\n",
        "plt.title('Top 5 Production countries')\n",
        "plt.show()"
      ],
      "metadata": {
        "colab": {
          "base_uri": "https://localhost:8080/",
          "height": 521
        },
        "id": "qXz-QBkQ6cqt",
        "outputId": "536b9f9f-de5b-47da-f4e0-c637a0b46e25"
      },
      "execution_count": null,
      "outputs": [
        {
          "output_type": "display_data",
          "data": {
            "text/plain": [
              "<Figure size 800x600 with 1 Axes>"
            ],
            "image/png": "[encoded data removed]"
          },
          "metadata": {}
        }
      ]
    },
    {
      "cell_type": "code",
      "source": [
        "#US dominates the content library — no surprise, since many titles originate from Hollywood.\n",
        "\n",
        "#UK and India have strong presence — lots of English-language and regional content.\n",
        "\n",
        "#Canada and France round out the top 5 — both have active film/TV industries."
      ],
      "metadata": {
        "id": "O5pPGL3T7POk"
      },
      "execution_count": null,
      "outputs": []
    },
    {
      "cell_type": "code",
      "source": [
        "amazon.head(30)"
      ],
      "metadata": {
        "id": "waBJ2O7N-xQ7"
      },
      "execution_count": null,
      "outputs": []
    },
    {
      "cell_type": "code",
      "source": [],
      "metadata": {
        "id": "cjUkpUsY_Q1S"
      },
      "execution_count": null,
      "outputs": []
    },
    {
      "cell_type": "code",
      "source": [
        "#Highest Rating VS Lowest Rating\n",
        "\n",
        "\n",
        "import matplotlib.pyplot as plt\n",
        "import seaborn as sns\n",
        "updated_scatter=amazon_prime.groupby(['title','imdb_rating','type','tmdb_score'],as_index=False)['imdb_rating'].max()\n",
        "\n",
        "up=updated_scatter.sort_values('imdb_rating',ascending=False).head(30)\n",
        "\n",
        "plt.figure(figsize=(10,6))\n",
        "sns.scatterplot(data=up, x='imdb_rating',y='tmdb_score',hue='type')\n",
        "plt.title('imdb_ratings vs tmdb score ,highest rating')\n",
        "plt.xlabel('imdb_ratings')\n",
        "plt.ylabel('tmdb_score')\n",
        "plt.grid(True)\n",
        "plt.tight_layout()\n",
        "plt.show()\n",
        "\n",
        "\n",
        "lowest_ratings=updated_scatter.sort_values('imdb_rating',ascending=True).head(30)\n",
        "plt.figure(figsize=(10,6))\n",
        "sns.scatterplot(data=lowest_ratings, x='imdb_rating',y='tmdb_score',hue='type')\n",
        "plt.title('imdb_ratings vs tmdb score ,lowest rating')\n",
        "plt.xlabel('imdb_ratings')\n",
        "plt.ylabel('tmdb_score')\n",
        "plt.grid(True)\n",
        "plt.tight_layout()\n",
        "plt.show()"
      ],
      "metadata": {
        "colab": {
          "base_uri": "https://localhost:8080/",
          "height": 1000
        },
        "id": "1K38OFrlECjz",
        "outputId": "1823bfdd-60a4-4824-ec3c-b5963b067573"
      },
      "execution_count": null,
      "outputs": [
        {
          "output_type": "display_data",
          "data": {
            "text/plain": [
              "<Figure size 1000x600 with 1 Axes>"
            ],
            "image/png": "[encoded data removed]"
          },
          "metadata": {}
        },
        {
          "output_type": "display_data",
          "data": {
            "text/plain": [
              "<Figure size 1000x600 with 1 Axes>"
            ],
            "image/png": "[encoded data removed]"
          },
          "metadata": {}
        }
      ]
    },
    {
      "cell_type": "code",
      "source": [
        "up=updated_scatter.sort_values('imdb_rating',ascending=True).head(30)\n",
        "up\n"
      ],
      "metadata": {
        "id": "lq6jSZkkapVd"
      },
      "execution_count": null,
      "outputs": []
    },
    {
      "cell_type": "code",
      "source": [
        "low_rated_popular = amazon_prime[(amazon_prime['imdb_votes'] > 50000) & (amazon_prime['imdb_rating'] < 5)]\n",
        "low_rated_popular.groupby(['title','imdb_votes','tmdb_popularity','tmdb_score','imdb_rating']).size().reset_index()\n"
      ],
      "metadata": {
        "colab": {
          "base_uri": "https://localhost:8080/",
          "height": 175
        },
        "id": "UqwijGn3S2q3",
        "outputId": "b383f35f-849f-4b46-a326-59fe030eabe6"
      },
      "execution_count": null,
      "outputs": [
        {
          "output_type": "execute_result",
          "data": {
            "text/plain": [
              "                                   title  imdb_votes  tmdb_popularity  \\\n",
              "0                           Coolie No. 1     73228.0              4.4   \n",
              "1                                 Gunday     58885.0              6.6   \n",
              "2  Legally Blonde 2: Red, White & Blonde     66316.0             19.7   \n",
              "3                  Paranormal Activity 4     65750.0             23.5   \n",
              "\n",
              "   tmdb_score  imdb_rating  0  \n",
              "0         5.9          4.2  1  \n",
              "1         4.9          2.2  1  \n",
              "2         5.6          4.7  1  \n",
              "3         5.4          4.6  1  "
            ],
            "text/html": [
              "\n",
              "  <div id=\"df-454105b8-f79b-4a12-8b94-d8f897e6a70e\" class=\"colab-df-container\">\n",
              "    <div>\n",
              "<style scoped>\n",
              "    .dataframe tbody tr th:only-of-type {\n",
              "        vertical-align: middle;\n",
              "    }\n",
              "\n",
              "    .dataframe tbody tr th {\n",
              "        vertical-align: top;\n",
              "    }\n",
              "\n",
              "    .dataframe thead th {\n",
              "        text-align: right;\n",
              "    }\n",
              "</style>\n",
              "<table border=\"1\" class=\"dataframe\">\n",
              "  <thead>\n",
              "    <tr style=\"text-align: right;\">\n",
              "      <th></th>\n",
              "      <th>title</th>\n",
              "      <th>imdb_votes</th>\n",
              "      <th>tmdb_popularity</th>\n",
              "      <th>tmdb_score</th>\n",
              "      <th>imdb_rating</th>\n",
              "      <th>0</th>\n",
              "    </tr>\n",
              "  </thead>\n",
              "  <tbody>\n",
              "    <tr>\n",
              "      <th>0</th>\n",
              "      <td>Coolie No. 1</td>\n",
              "      <td>73228.0</td>\n",
              "      <td>4.4</td>\n",
              "      <td>5.9</td>\n",
              "      <td>4.2</td>\n",
              "      <td>1</td>\n",
              "    </tr>\n",
              "    <tr>\n",
              "      <th>1</th>\n",
              "      <td>Gunday</td>\n",
              "      <td>58885.0</td>\n",
              "      <td>6.6</td>\n",
              "      <td>4.9</td>\n",
              "      <td>2.2</td>\n",
              "      <td>1</td>\n",
              "    </tr>\n",
              "    <tr>\n",
              "      <th>2</th>\n",
              "      <td>Legally Blonde 2: Red, White &amp; Blonde</td>\n",
              "      <td>66316.0</td>\n",
              "      <td>19.7</td>\n",
              "      <td>5.6</td>\n",
              "      <td>4.7</td>\n",
              "      <td>1</td>\n",
              "    </tr>\n",
              "    <tr>\n",
              "      <th>3</th>\n",
              "      <td>Paranormal Activity 4</td>\n",
              "      <td>65750.0</td>\n",
              "      <td>23.5</td>\n",
              "      <td>5.4</td>\n",
              "      <td>4.6</td>\n",
              "      <td>1</td>\n",
              "    </tr>\n",
              "  </tbody>\n",
              "</table>\n",
              "</div>\n",
              "    <div class=\"colab-df-buttons\">\n",
              "\n",
              "  <div class=\"colab-df-container\">\n",
              "    <button class=\"colab-df-convert\" onclick=\"convertToInteractive('df-454105b8-f79b-4a12-8b94-d8f897e6a70e')\"\n",
              "            title=\"Convert this dataframe to an interactive table.\"\n",
              "            style=\"display:none;\">\n",
              "\n",
              "  <svg xmlns=\"http://www.w3.org/2000/svg\" height=\"24px\" viewBox=\"0 -960 960 960\">\n",
              "    <path d=\"M120-120v-720h720v720H120Zm60-500h600v-160H180v160Zm220 220h160v-160H400v160Zm0 220h160v-160H400v160ZM180-400h160v-160H180v160Zm440 0h160v-160H620v160ZM180-180h160v-160H180v160Zm440 0h160v-160H620v160Z\"/>\n",
              "  </svg>\n",
              "    </button>\n",
              "\n",
              "  <style>\n",
              "    .colab-df-container {\n",
              "      display:flex;\n",
              "      gap: 12px;\n",
              "    }\n",
              "\n",
              "    .colab-df-convert {\n",
              "      background-color: #E8F0FE;\n",
              "      border: none;\n",
              "      border-radius: 50%;\n",
              "      cursor: pointer;\n",
              "      display: none;\n",
              "      fill: #1967D2;\n",
              "      height: 32px;\n",
              "      padding: 0 0 0 0;\n",
              "      width: 32px;\n",
              "    }\n",
              "\n",
              "    .colab-df-convert:hover {\n",
              "      background-color: #E2EBFA;\n",
              "      box-shadow: 0px 1px 2px rgba(60, 64, 67, 0.3), 0px 1px 3px 1px rgba(60, 64, 67, 0.15);\n",
              "      fill: #174EA6;\n",
              "    }\n",
              "\n",
              "    .colab-df-buttons div {\n",
              "      margin-bottom: 4px;\n",
              "    }\n",
              "\n",
              "    [theme=dark] .colab-df-convert {\n",
              "      background-color: #3B4455;\n",
              "      fill: #D2E3FC;\n",
              "    }\n",
              "\n",
              "    [theme=dark] .colab-df-convert:hover {\n",
              "      background-color: #434B5C;\n",
              "      box-shadow: 0px 1px 3px 1px rgba(0, 0, 0, 0.15);\n",
              "      filter: drop-shadow(0px 1px 2px rgba(0, 0, 0, 0.3));\n",
              "      fill: #FFFFFF;\n",
              "    }\n",
              "  </style>\n",
              "\n",
              "    <script>\n",
              "      const buttonEl =\n",
              "        document.querySelector('#df-454105b8-f79b-4a12-8b94-d8f897e6a70e button.colab-df-convert');\n",
              "      buttonEl.style.display =\n",
              "        google.colab.kernel.accessAllowed ? 'block' : 'none';\n",
              "\n",
              "      async function convertToInteractive(key) {\n",
              "        const element = document.querySelector('#df-454105b8-f79b-4a12-8b94-d8f897e6a70e');\n",
              "        const dataTable =\n",
              "          await google.colab.kernel.invokeFunction('convertToInteractive',\n",
              "                                                    [key], {});\n",
              "        if (!dataTable) return;\n",
              "\n",
              "        const docLinkHtml = 'Like what you see? Visit the ' +\n",
              "          '<a target=\"_blank\" href=https://colab.research.google.com/notebooks/data_table.ipynb>data table notebook</a>'\n",
              "          + ' to learn more about interactive tables.';\n",
              "        element.innerHTML = '';\n",
              "        dataTable['output_type'] = 'display_data';\n",
              "        await google.colab.output.renderOutput(dataTable, element);\n",
              "        const docLink = document.createElement('div');\n",
              "        docLink.innerHTML = docLinkHtml;\n",
              "        element.appendChild(docLink);\n",
              "      }\n",
              "    </script>\n",
              "  </div>\n",
              "\n",
              "\n",
              "    <div id=\"df-15a57ebf-7c90-4188-9b68-88e30ada5f5f\">\n",
              "      <button class=\"colab-df-quickchart\" onclick=\"quickchart('df-15a57ebf-7c90-4188-9b68-88e30ada5f5f')\"\n",
              "                title=\"Suggest charts\"\n",
              "                style=\"display:none;\">\n",
              "\n",
              "<svg xmlns=\"http://www.w3.org/2000/svg\" height=\"24px\"viewBox=\"0 0 24 24\"\n",
              "     width=\"24px\">\n",
              "    <g>\n",
              "        <path d=\"M19 3H5c-1.1 0-2 .9-2 2v14c0 1.1.9 2 2 2h14c1.1 0 2-.9 2-2V5c0-1.1-.9-2-2-2zM9 17H7v-7h2v7zm4 0h-2V7h2v10zm4 0h-2v-4h2v4z\"/>\n",
              "    </g>\n",
              "</svg>\n",
              "      </button>\n",
              "\n",
              "<style>\n",
              "  .colab-df-quickchart {\n",
              "      --bg-color: #E8F0FE;\n",
              "      --fill-color: #1967D2;\n",
              "      --hover-bg-color: #E2EBFA;\n",
              "      --hover-fill-color: #174EA6;\n",
              "      --disabled-fill-color: #AAA;\n",
              "      --disabled-bg-color: #DDD;\n",
              "  }\n",
              "\n",
              "  [theme=dark] .colab-df-quickchart {\n",
              "      --bg-color: #3B4455;\n",
              "      --fill-color: #D2E3FC;\n",
              "      --hover-bg-color: #434B5C;\n",
              "      --hover-fill-color: #FFFFFF;\n",
              "      --disabled-bg-color: #3B4455;\n",
              "      --disabled-fill-color: #666;\n",
              "  }\n",
              "\n",
              "  .colab-df-quickchart {\n",
              "    background-color: var(--bg-color);\n",
              "    border: none;\n",
              "    border-radius: 50%;\n",
              "    cursor: pointer;\n",
              "    display: none;\n",
              "    fill: var(--fill-color);\n",
              "    height: 32px;\n",
              "    padding: 0;\n",
              "    width: 32px;\n",
              "  }\n",
              "\n",
              "  .colab-df-quickchart:hover {\n",
              "    background-color: var(--hover-bg-color);\n",
              "    box-shadow: 0 1px 2px rgba(60, 64, 67, 0.3), 0 1px 3px 1px rgba(60, 64, 67, 0.15);\n",
              "    fill: var(--button-hover-fill-color);\n",
              "  }\n",
              "\n",
              "  .colab-df-quickchart-complete:disabled,\n",
              "  .colab-df-quickchart-complete:disabled:hover {\n",
              "    background-color: var(--disabled-bg-color);\n",
              "    fill: var(--disabled-fill-color);\n",
              "    box-shadow: none;\n",
              "  }\n",
              "\n",
              "  .colab-df-spinner {\n",
              "    border: 2px solid var(--fill-color);\n",
              "    border-color: transparent;\n",
              "    border-bottom-color: var(--fill-color);\n",
              "    animation:\n",
              "      spin 1s steps(1) infinite;\n",
              "  }\n",
              "\n",
              "  @keyframes spin {\n",
              "    0% {\n",
              "      border-color: transparent;\n",
              "      border-bottom-color: var(--fill-color);\n",
              "      border-left-color: var(--fill-color);\n",
              "    }\n",
              "    20% {\n",
              "      border-color: transparent;\n",
              "      border-left-color: var(--fill-color);\n",
              "      border-top-color: var(--fill-color);\n",
              "    }\n",
              "    30% {\n",
              "      border-color: transparent;\n",
              "      border-left-color: var(--fill-color);\n",
              "      border-top-color: var(--fill-color);\n",
              "      border-right-color: var(--fill-color);\n",
              "    }\n",
              "    40% {\n",
              "      border-color: transparent;\n",
              "      border-right-color: var(--fill-color);\n",
              "      border-top-color: var(--fill-color);\n",
              "    }\n",
              "    60% {\n",
              "      border-color: transparent;\n",
              "      border-right-color: var(--fill-color);\n",
              "    }\n",
              "    80% {\n",
              "      border-color: transparent;\n",
              "      border-right-color: var(--fill-color);\n",
              "      border-bottom-color: var(--fill-color);\n",
              "    }\n",
              "    90% {\n",
              "      border-color: transparent;\n",
              "      border-bottom-color: var(--fill-color);\n",
              "    }\n",
              "  }\n",
              "</style>\n",
              "\n",
              "      <script>\n",
              "        async function quickchart(key) {\n",
              "          const quickchartButtonEl =\n",
              "            document.querySelector('#' + key + ' button');\n",
              "          quickchartButtonEl.disabled = true;  // To prevent multiple clicks.\n",
              "          quickchartButtonEl.classList.add('colab-df-spinner');\n",
              "          try {\n",
              "            const charts = await google.colab.kernel.invokeFunction(\n",
              "                'suggestCharts', [key], {});\n",
              "          } catch (error) {\n",
              "            console.error('Error during call to suggestCharts:', error);\n",
              "          }\n",
              "          quickchartButtonEl.classList.remove('colab-df-spinner');\n",
              "          quickchartButtonEl.classList.add('colab-df-quickchart-complete');\n",
              "        }\n",
              "        (() => {\n",
              "          let quickchartButtonEl =\n",
              "            document.querySelector('#df-15a57ebf-7c90-4188-9b68-88e30ada5f5f button');\n",
              "          quickchartButtonEl.style.display =\n",
              "            google.colab.kernel.accessAllowed ? 'block' : 'none';\n",
              "        })();\n",
              "      </script>\n",
              "    </div>\n",
              "\n",
              "    </div>\n",
              "  </div>\n"
            ],
            "application/vnd.google.colaboratory.intrinsic+json": {
              "type": "dataframe",
              "summary": "{\n  \"name\": \"low_rated_popular\",\n  \"rows\": 4,\n  \"fields\": [\n    {\n      \"column\": \"title\",\n      \"properties\": {\n        \"dtype\": \"string\",\n        \"num_unique_values\": 4,\n        \"samples\": [\n          \"Gunday\",\n          \"Paranormal Activity 4\",\n          \"Coolie No. 1\"\n        ],\n        \"semantic_type\": \"\",\n        \"description\": \"\"\n      }\n    },\n    {\n      \"column\": \"imdb_votes\",\n      \"properties\": {\n        \"dtype\": \"number\",\n        \"std\": 5860.078348452348,\n        \"min\": 58885.0,\n        \"max\": 73228.0,\n        \"num_unique_values\": 4,\n        \"samples\": [\n          58885.0,\n          65750.0,\n          73228.0\n        ],\n        \"semantic_type\": \"\",\n        \"description\": \"\"\n      }\n    },\n    {\n      \"column\": \"tmdb_popularity\",\n      \"properties\": {\n        \"dtype\": \"number\",\n        \"std\": 9.466607981038756,\n        \"min\": 4.4,\n        \"max\": 23.5,\n        \"num_unique_values\": 4,\n        \"samples\": [\n          6.6,\n          23.5,\n          4.4\n        ],\n        \"semantic_type\": \"\",\n        \"description\": \"\"\n      }\n    },\n    {\n      \"column\": \"tmdb_score\",\n      \"properties\": {\n        \"dtype\": \"number\",\n        \"std\": 0.4203173404306163,\n        \"min\": 4.9,\n        \"max\": 5.9,\n        \"num_unique_values\": 4,\n        \"samples\": [\n          4.9,\n          5.4,\n          5.9\n        ],\n        \"semantic_type\": \"\",\n        \"description\": \"\"\n      }\n    },\n    {\n      \"column\": \"imdb_rating\",\n      \"properties\": {\n        \"dtype\": \"number\",\n        \"std\": 1.17011395456454,\n        \"min\": 2.2,\n        \"max\": 4.7,\n        \"num_unique_values\": 4,\n        \"samples\": [\n          2.2,\n          4.6,\n          4.2\n        ],\n        \"semantic_type\": \"\",\n        \"description\": \"\"\n      }\n    },\n    {\n      \"column\": 0,\n      \"properties\": {\n        \"dtype\": \"number\",\n        \"std\": 0,\n        \"min\": 1,\n        \"max\": 1,\n        \"num_unique_values\": 1,\n        \"samples\": [\n          1\n        ],\n        \"semantic_type\": \"\",\n        \"description\": \"\"\n      }\n    }\n  ]\n}"
            }
          },
          "metadata": {},
          "execution_count": 64
        }
      ]
    },
    {
      "cell_type": "code",
      "source": [
        "# Filter for IMDb rating around 2.0 and TMDb score near 10\n",
        "weird_match = amazon_prime[\n",
        "    (amazon_prime['imdb_rating'] <= 2.2) &\n",
        "    (amazon_prime['tmdb_score'] >= 9.5)\n",
        "]\n",
        "\n",
        "# Show relevant columns\n",
        "weird_match.groupby(['title', 'imdb_rating', 'tmdb_score', 'type','imdb_votes','tmdb_popularity']).size()\n"
      ],
      "metadata": {
        "colab": {
          "base_uri": "https://localhost:8080/",
          "height": 147
        },
        "id": "9xaQWpMMT7CF",
        "outputId": "a7cda0b2-731a-4205-d32d-b9ca3d2c9b10"
      },
      "execution_count": null,
      "outputs": [
        {
          "output_type": "execute_result",
          "data": {
            "text/plain": [
              "title           imdb_rating  tmdb_score  type   imdb_votes  tmdb_popularity\n",
              "Lockdown: 2025  2.1          10.0        MOVIE  179.0       3.8                1\n",
              "dtype: int64"
            ],
            "text/html": [
              "<div>\n",
              "<style scoped>\n",
              "    .dataframe tbody tr th:only-of-type {\n",
              "        vertical-align: middle;\n",
              "    }\n",
              "\n",
              "    .dataframe tbody tr th {\n",
              "        vertical-align: top;\n",
              "    }\n",
              "\n",
              "    .dataframe thead th {\n",
              "        text-align: right;\n",
              "    }\n",
              "</style>\n",
              "<table border=\"1\" class=\"dataframe\">\n",
              "  <thead>\n",
              "    <tr style=\"text-align: right;\">\n",
              "      <th></th>\n",
              "      <th></th>\n",
              "      <th></th>\n",
              "      <th></th>\n",
              "      <th></th>\n",
              "      <th></th>\n",
              "      <th>0</th>\n",
              "    </tr>\n",
              "    <tr>\n",
              "      <th>title</th>\n",
              "      <th>imdb_rating</th>\n",
              "      <th>tmdb_score</th>\n",
              "      <th>type</th>\n",
              "      <th>imdb_votes</th>\n",
              "      <th>tmdb_popularity</th>\n",
              "      <th></th>\n",
              "    </tr>\n",
              "  </thead>\n",
              "  <tbody>\n",
              "    <tr>\n",
              "      <th>Lockdown: 2025</th>\n",
              "      <th>2.1</th>\n",
              "      <th>10.0</th>\n",
              "      <th>MOVIE</th>\n",
              "      <th>179.0</th>\n",
              "      <th>3.8</th>\n",
              "      <td>1</td>\n",
              "    </tr>\n",
              "  </tbody>\n",
              "</table>\n",
              "</div><br><label><b>dtype:</b> int64</label>"
            ]
          },
          "metadata": {},
          "execution_count": 65
        }
      ]
    },
    {
      "cell_type": "code",
      "source": [
        "#Lockdown: 2025 is a great example of rating inconsistency. While IMDb users rated it very poorly (2.1 from 179 votes),\n",
        "#TMDb shows a perfect 10.0 score — despite its low popularity score of 3.8. This indicates possible manipulation or default scoring on TMDb and highlights why cross-platform comparison requires careful validation.\"\n",
        "\n"
      ],
      "metadata": {
        "id": "4ZgKWp-2c7Bq"
      },
      "execution_count": null,
      "outputs": []
    },
    {
      "cell_type": "code",
      "source": [
        "import seaborn as sns\n",
        "import matplotlib.pyplot as plt\n",
        "import numpy as np\n",
        "\n",
        "# Step 1: Filter top-rated content\n",
        "top_rated = amazon_prime[amazon_prime['imdb_rating'] >= 8.5].copy()\n",
        "\n",
        "# Step 2: Drop duplicates — keep row with max votes per title\n",
        "top_rated_unique = top_rated.sort_values('imdb_votes', ascending=False)\n",
        "\n",
        "# Step 3: Select top 3 by imdb_votes\n",
        "top_titles = top_rated_unique.nlargest(3, 'imdb_votes')\n",
        "\n",
        "# Step 4: Plot\n",
        "plt.figure(figsize=(12, 6))\n",
        "sns.scatterplot(\n",
        "    data=top_rated_unique,\n",
        "    x='imdb_rating',\n",
        "    y='imdb_votes',\n",
        "    hue='type',\n",
        "    palette={'MOVIE': 'steelblue', 'SHOW': 'orange'},\n",
        "    alpha=0.7,\n",
        "    s=100,\n",
        "    edgecolor='black'\n",
        ")\n",
        "\n",
        "plt.yscale('log')\n",
        "\n",
        "# Step 5: Annotate top 3\n",
        "for _, row in top_titles.iterrows():\n",
        "    plt.text(row['imdb_rating'] + 0.01, row['imdb_votes'],\n",
        "             row['title'], fontsize=9, fontweight='bold')\n",
        "\n",
        "# Final formatting\n",
        "plt.title('IMDb Rating vs Votes for Top-Rated Content (Log Scale)')\n",
        "plt.xlabel('IMDb Rating')\n",
        "plt.ylabel('IMDb Votes (Log Scale)')\n",
        "plt.grid(True, linestyle='--', alpha=0.5)\n",
        "plt.legend(title='Content Type')\n",
        "plt.tight_layout()\n",
        "plt.show()\n"
      ],
      "metadata": {
        "colab": {
          "base_uri": "https://localhost:8080/",
          "height": 607
        },
        "id": "4r1gsc3ldCT8",
        "outputId": "bbcb8dbd-f8b8-4e22-8c42-529cd4ab77c5"
      },
      "execution_count": null,
      "outputs": [
        {
          "output_type": "display_data",
          "data": {
            "text/plain": [
              "<Figure size 1200x600 with 1 Axes>"
            ],
            "image/png": "[encoded data removed]"
          },
          "metadata": {}
        }
      ]
    },
    {
      "cell_type": "code",
      "source": [
        "#bservation =there are excellent shows and movies on the platform, movies naturally get more attention and ratings.\n",
        "#Some top-rated shows are hidden gems — Amazon should invest in marketing or surface them better to users.\n",
        "\n"
      ],
      "metadata": {
        "id": "Shzlq16MIEjA"
      },
      "execution_count": null,
      "outputs": []
    },
    {
      "cell_type": "code",
      "source": [],
      "metadata": {
        "id": "Dbxz291BcmmT"
      },
      "execution_count": null,
      "outputs": []
    }
  ],
  "metadata": {
    "colab": {
      "provenance": []
    },
    "kernelspec": {
      "display_name": "Python 3",
      "name": "python3"
    },
    "language_info": {
      "name": "python"
    }
  },
  "nbformat": 4,
  "nbformat_minor": 0
}